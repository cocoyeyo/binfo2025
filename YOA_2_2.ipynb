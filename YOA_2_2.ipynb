{
  "nbformat": 4,
  "nbformat_minor": 0,
  "metadata": {
    "colab": {
      "provenance": []
    },
    "kernelspec": {
      "name": "python3",
      "display_name": "Python 3"
    },
    "language_info": {
      "name": "python"
    }
  },
  "cells": [
    {
      "cell_type": "code",
      "execution_count": null,
      "metadata": {
        "colab": {
          "base_uri": "https://localhost:8080/"
        },
        "id": "otaaXwp0a1uf",
        "outputId": "868cec48-abaf-4835-af7c-d3aed934882d"
      },
      "outputs": [
        {
          "output_type": "stream",
          "name": "stdout",
          "text": [
            "Mounted at /content/drive\n"
          ]
        }
      ],
      "source": [
        "from google.colab import drive\n",
        "drive.mount('/content/drive')"
      ]
    },
    {
      "cell_type": "code",
      "source": [
        "%cd /content/drive/MyDrive/YOA"
      ],
      "metadata": {
        "colab": {
          "base_uri": "https://localhost:8080/"
        },
        "id": "RyxCIyt9a_Si",
        "outputId": "8eae0ade-8dc3-4e3c-9874-f638a75dbcdf"
      },
      "execution_count": null,
      "outputs": [
        {
          "output_type": "stream",
          "name": "stdout",
          "text": [
            "/content/drive/MyDrive/YOA\n"
          ]
        }
      ]
    },
    {
      "cell_type": "code",
      "source": [
        "import pandas as pd\n",
        "\n",
        "lin28b_bed = pd.read_csv('LIN28B_K562_eCLIP.bed', sep='\\t', header=None)\n",
        "ddx3x_bed = pd.read_csv('DDX3X_K562_eCLIP.bed', sep='\\t', header=None)\n",
        "\n",
        "# 컬럼 이름 지정 (narrowPeak 포맷 기준)\n",
        "columns = [\n",
        "    'chr', 'start', 'end', 'name', 'score', 'strand',\n",
        "    'signalValue', 'pValue', 'qValue', 'peak'\n",
        "]\n",
        "lin28b_bed.columns = columns\n",
        "ddx3x_bed.columns = columns\n",
        "\n",
        "# 파일 미리보기\n",
        "print('LIN28B:')\n",
        "print(lin28b_bed.head())\n",
        "print('\\nDDX3X:')\n",
        "print(ddx3x_bed.head())"
      ],
      "metadata": {
        "colab": {
          "base_uri": "https://localhost:8080/"
        },
        "id": "j9n88TwfbQNo",
        "outputId": "45ab15e6-58b8-462f-9cf7-1fa2a7fe9b7e"
      },
      "execution_count": null,
      "outputs": [
        {
          "output_type": "stream",
          "name": "stdout",
          "text": [
            "LIN28B:\n",
            "     chr      start        end             name  score strand  signalValue  \\\n",
            "0  chr10   72275308   72275328  LIN28B_K562_IDR   1000      +     6.337501   \n",
            "1   chr9  130854159  130854233  LIN28B_K562_IDR   1000      +     3.611149   \n",
            "2   chr9  130854233  130854238  LIN28B_K562_IDR   1000      +     3.581694   \n",
            "3   chr2  169821941  169822020  LIN28B_K562_IDR   1000      -     3.474968   \n",
            "4   chr2  135866620  135866664  LIN28B_K562_IDR   1000      -     5.177964   \n",
            "\n",
            "      pValue  qValue  peak  \n",
            "0  41.608210      -1    -1  \n",
            "1   8.904796      -1    -1  \n",
            "2   3.686923      -1    -1  \n",
            "3   4.305029      -1    -1  \n",
            "4   7.830121      -1    -1  \n",
            "\n",
            "DDX3X:\n",
            "     chr      start        end            name  score strand  signalValue  \\\n",
            "0  chr11   94973496   94973570  DDX3X_K562_IDR   1000      -     3.466426   \n",
            "1  chr22   40819227   40819349  DDX3X_K562_IDR   1000      -     3.318698   \n",
            "2  chr22   40819194   40819227  DDX3X_K562_IDR   1000      -     3.073488   \n",
            "3   chrX   63351168   63351323  DDX3X_K562_IDR   1000      -     4.085411   \n",
            "4   chr2  112584599  112584650  DDX3X_K562_IDR   1000      +     4.551388   \n",
            "\n",
            "     pValue  qValue  peak  \n",
            "0  4.474207      -1    -1  \n",
            "1  8.519145      -1    -1  \n",
            "2  3.550105      -1    -1  \n",
            "3  9.051959      -1    -1  \n",
            "4  6.486314      -1    -1  \n"
          ]
        }
      ]
    },
    {
      "cell_type": "code",
      "source": [
        "%cd /content/drive/MyDrive/YOA"
      ],
      "metadata": {
        "colab": {
          "base_uri": "https://localhost:8080/"
        },
        "id": "1zQts2hpbZgV",
        "outputId": "e7cf36f8-ebc0-403b-d405-5ef22bb2995d"
      },
      "execution_count": null,
      "outputs": [
        {
          "output_type": "stream",
          "name": "stdout",
          "text": [
            "/content/drive/MyDrive/YOA\n"
          ]
        }
      ]
    },
    {
      "cell_type": "code",
      "source": [
        "import pandas as pd\n",
        "\n",
        "\n",
        "# 2. GTF 불러오기\n",
        "gtf = pd.read_csv(\"gencode.v38.annotation.gtf\", sep=\"\\t\", comment=\"#\", header=None,\n",
        "                  names=[\"chr\", \"source\", \"feature\", \"start\", \"end\", \"score\", \"strand\", \"frame\", \"attribute\"])\n",
        "\n",
        "# 3. UTR/ CDS만 추출\n",
        "utr = gtf[gtf[\"feature\"] == \"UTR\"].copy()\n",
        "cds = gtf[gtf[\"feature\"] == \"CDS\"].copy()\n",
        "\n",
        "# 4. transcript_id 추출 함수\n",
        "def extract_transcript_id(attr):\n",
        "    for entry in attr.split(\";\"):\n",
        "        if \"transcript_id\" in entry:\n",
        "            return entry.split('\"')[1]\n",
        "    return None\n",
        "\n",
        "utr[\"transcript_id\"] = utr[\"attribute\"].apply(extract_transcript_id)\n",
        "cds[\"transcript_id\"] = cds[\"attribute\"].apply(extract_transcript_id)\n",
        "\n",
        "# 5. CDS 시작/끝 좌표 집계\n",
        "cds_range = cds.groupby(\"transcript_id\")[[\"start\", \"end\"]].agg([\"min\", \"max\"])\n",
        "cds_range.columns = ['start_min', 'start_max', 'end_min', 'end_max']\n",
        "cds_range[\"cds_start\"] = cds_range[[\"start_min\", \"end_min\"]].min(axis=1)\n",
        "cds_range[\"cds_end\"] = cds_range[[\"start_max\", \"end_max\"]].max(axis=1)\n",
        "cds_range = cds_range[[\"cds_start\", \"cds_end\"]]\n",
        "\n",
        "# 6. UTR에 merge\n",
        "utr = utr.merge(cds_range, on=\"transcript_id\", how=\"left\")\n",
        "\n",
        "# 7. strand, CDS 위치 기반 5'/3' 구분 함수\n",
        "def label_utr(row):\n",
        "    if pd.isna(row[\"cds_start\"]) or pd.isna(row[\"cds_end\"]):\n",
        "        return \"unknown\"\n",
        "    if row[\"strand\"] == \"+\":\n",
        "        return \"5UTR\" if row[\"end\"] < row[\"cds_start\"] else \"3UTR\"\n",
        "    else:\n",
        "        return \"3UTR\" if row[\"start\"] > row[\"cds_end\"] else \"5UTR\"\n",
        "\n",
        "utr[\"UTR_type\"] = utr.apply(label_utr, axis=1)\n",
        "\n",
        "# 8. BED 포맷 저장\n",
        "utr_bed = utr[[\"chr\", \"start\", \"end\", \"transcript_id\", \"score\", \"strand\", \"UTR_type\"]]\n",
        "utr_bed.to_csv(\"/content/annotated_UTRs_v38.bed\", sep=\"\\t\", index=False, header=False)\n"
      ],
      "metadata": {
        "id": "HXOiGi2zbdWL"
      },
      "execution_count": null,
      "outputs": []
    },
    {
      "cell_type": "code",
      "source": [
        "!head /content/annotated_UTRs_v38.bed\n"
      ],
      "metadata": {
        "colab": {
          "base_uri": "https://localhost:8080/"
        },
        "id": "vpalHR8tfWVp",
        "outputId": "8f55085f-b903-41da-de91-95707564a7ac"
      },
      "execution_count": null,
      "outputs": [
        {
          "output_type": "stream",
          "name": "stdout",
          "text": [
            "chr1\t65419\t65433\tENST00000641515.2\t.\t+\t5UTR\n",
            "chr1\t65520\t65564\tENST00000641515.2\t.\t+\t5UTR\n",
            "chr1\t70006\t71585\tENST00000641515.2\t.\t+\t3UTR\n",
            "chr1\t450740\t450742\tENST00000426406.4\t.\t-\t5UTR\n",
            "chr1\t685679\t685718\tENST00000332831.4\t.\t-\t5UTR\n",
            "chr1\t686655\t686673\tENST00000332831.4\t.\t-\t3UTR\n",
            "chr1\t923923\t924431\tENST00000616016.5\t.\t+\t5UTR\n",
            "chr1\t944151\t944574\tENST00000616016.5\t.\t+\t3UTR\n",
            "chr1\t923923\t924431\tENST00000618323.5\t.\t+\t5UTR\n",
            "chr1\t944151\t944574\tENST00000618323.5\t.\t+\t3UTR\n"
          ]
        }
      ]
    },
    {
      "cell_type": "code",
      "source": [
        "%cd /content/drive/MyDrive/YOA"
      ],
      "metadata": {
        "colab": {
          "base_uri": "https://localhost:8080/"
        },
        "id": "5tTADDzrgcwr",
        "outputId": "7f89f261-6655-4dda-9dd9-66f79296dcb8"
      },
      "execution_count": null,
      "outputs": [
        {
          "output_type": "stream",
          "name": "stdout",
          "text": [
            "/content/drive/MyDrive/YOA\n"
          ]
        }
      ]
    },
    {
      "cell_type": "code",
      "source": [
        "!awk '$7==\"5UTR\"' /content/annotated_UTRs_v38.bed > five_utr.bed\n",
        "!awk '$7==\"3UTR\"' /content/annotated_UTRs_v38.bed > three_utr.bed\n"
      ],
      "metadata": {
        "id": "7rJgxY2Spucl"
      },
      "execution_count": null,
      "outputs": []
    },
    {
      "cell_type": "code",
      "source": [
        "!apt-get update\n",
        "!apt-get install -y bedtools\n",
        "\n"
      ],
      "metadata": {
        "colab": {
          "base_uri": "https://localhost:8080/"
        },
        "id": "RBeHV-eoqa--",
        "outputId": "990922fb-7fdf-40d6-faab-5d8c8e86c1f9"
      },
      "execution_count": null,
      "outputs": [
        {
          "output_type": "stream",
          "name": "stdout",
          "text": [
            "\r0% [Working]\r            \rHit:1 http://security.ubuntu.com/ubuntu jammy-security InRelease\n",
            "\r0% [Connecting to archive.ubuntu.com] [Connecting to cloud.r-project.org (18.16\r                                                                               \rHit:2 https://developer.download.nvidia.com/compute/cuda/repos/ubuntu2204/x86_64  InRelease\n",
            "\r0% [Connecting to archive.ubuntu.com] [Connected to cloud.r-project.org (18.160\r                                                                               \rHit:3 https://cloud.r-project.org/bin/linux/ubuntu jammy-cran40/ InRelease\n",
            "Hit:4 https://r2u.stat.illinois.edu/ubuntu jammy InRelease\n",
            "Hit:5 http://archive.ubuntu.com/ubuntu jammy InRelease\n",
            "Hit:6 http://archive.ubuntu.com/ubuntu jammy-updates InRelease\n",
            "Hit:7 https://ppa.launchpadcontent.net/deadsnakes/ppa/ubuntu jammy InRelease\n",
            "Hit:8 http://archive.ubuntu.com/ubuntu jammy-backports InRelease\n",
            "Hit:9 https://ppa.launchpadcontent.net/graphics-drivers/ppa/ubuntu jammy InRelease\n",
            "Hit:10 https://ppa.launchpadcontent.net/ubuntugis/ppa/ubuntu jammy InRelease\n",
            "Reading package lists... Done\n",
            "W: Skipping acquire of configured file 'main/source/Sources' as repository 'https://r2u.stat.illinois.edu/ubuntu jammy InRelease' does not seem to provide it (sources.list entry misspelt?)\n",
            "Reading package lists... Done\n",
            "Building dependency tree... Done\n",
            "Reading state information... Done\n",
            "bedtools is already the newest version (2.30.0+dfsg-2ubuntu0.1).\n",
            "0 upgraded, 0 newly installed, 0 to remove and 45 not upgraded.\n",
            "1870\n",
            "1891\n",
            "4684\n"
          ]
        }
      ]
    },
    {
      "cell_type": "code",
      "source": [
        "#LIN28B\n",
        "# 5'UTR\n",
        "!bedtools intersect -a LIN28B_K562_eCLIP.bed -b five_utr.bed -u | wc -l\n",
        "# 3'UTR\n",
        "!bedtools intersect -a LIN28B_K562_eCLIP.bed -b three_utr.bed -u | wc -l\n",
        "# CDS\n",
        "!bedtools intersect -a LIN28B_K562_eCLIP.bed -b CDS.bed -u | wc -l\n",
        "\n",
        "#DDX3X\n",
        "# 5'UTR\n",
        "!bedtools intersect -a DDX3X_K562_eCLIP.bed -b five_utr.bed -u | wc -l\n",
        "# 3'UTR\n",
        "!bedtools intersect -a DDX3X_K562_eCLIP.bed -b three_utr.bed -u | wc -l\n",
        "# CDS\n",
        "!bedtools intersect -a DDX3X_K562_eCLIP.bed -b CDS.bed -u | wc -l"
      ],
      "metadata": {
        "colab": {
          "base_uri": "https://localhost:8080/"
        },
        "id": "bQnVkK1YsfpI",
        "outputId": "cdad8a50-9f98-44eb-9e7c-bf634a0b16f3"
      },
      "execution_count": null,
      "outputs": [
        {
          "output_type": "stream",
          "name": "stdout",
          "text": [
            "1870\n",
            "1891\n",
            "4684\n",
            "2808\n",
            "2722\n",
            "3831\n"
          ]
        }
      ]
    },
    {
      "cell_type": "code",
      "source": [
        "import matplotlib.pyplot as plt\n",
        "\n",
        "# (위 표의 결과를 여기에 직접 입력!)\n",
        "labels = ['5′UTR', '3′UTR', 'CDS']\n",
        "LIN28B_counts = [1870, 1891, 4684]\n",
        "DDX3X_counts = [2808, 2722, 3831]\n",
        "\n",
        "x = range(len(labels))\n",
        "plt.bar(x, LIN28B_counts, width=0.4, label='LIN28B', align='center')\n",
        "plt.bar([i+0.4 for i in x], DDX3X_counts, width=0.4, label='DDX3X', align='center')\n",
        "plt.xticks([i+0.2 for i in x], labels)\n",
        "plt.ylabel('Peak count')\n",
        "plt.title('Peak distribution by region')\n",
        "plt.legend()\n",
        "plt.show()\n"
      ],
      "metadata": {
        "colab": {
          "base_uri": "https://localhost:8080/",
          "height": 452
        },
        "id": "AP5SKhuir4x-",
        "outputId": "0bb5a0b6-6807-4c22-a48a-ffe2c4e3e10c"
      },
      "execution_count": null,
      "outputs": [
        {
          "output_type": "display_data",
          "data": {
            "text/plain": [
              "<Figure size 640x480 with 1 Axes>"
            ],
            "image/png": "[encoded data removed]"
          },
          "metadata": {}
        }
      ]
    }
  ]
}