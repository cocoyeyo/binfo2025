{
  "nbformat": 4,
  "nbformat_minor": 0,
  "metadata": {
    "colab": {
      "provenance": []
    },
    "kernelspec": {
      "name": "python3",
      "display_name": "Python 3"
    },
    "language_info": {
      "name": "python"
    }
  },
  "cells": [
    {
      "cell_type": "code",
      "execution_count": 2,
      "metadata": {
        "colab": {
          "base_uri": "https://localhost:8080/"
        },
        "id": "zh5FGdYBM88L",
        "outputId": "ce7773f6-cef2-44cc-dd80-2c338dab8e35"
      },
      "outputs": [
        {
          "output_type": "stream",
          "name": "stdout",
          "text": [
            "Mounted at /content/drive\n"
          ]
        }
      ],
      "source": [
        "from google.colab import drive\n",
        "drive.mount('/content/drive')"
      ]
    },
    {
      "cell_type": "code",
      "source": [
        "!git clone https://github.com/hyeshik/colab-biolab.git\n",
        "!cd colab-biolab && bash tools/setup.sh\n",
        "exec(open('colab-biolab/tools/activate_conda.py').read())"
      ],
      "metadata": {
        "colab": {
          "base_uri": "https://localhost:8080/"
        },
        "id": "SD-lwwvfNIZJ",
        "outputId": "634a423e-ed3f-4655-ead9-a5f71e28cd1e"
      },
      "execution_count": 3,
      "outputs": [
        {
          "output_type": "stream",
          "name": "stdout",
          "text": [
            "Cloning into 'colab-biolab'...\n",
            "remote: Enumerating objects: 76, done.\u001b[K\n",
            "remote: Counting objects: 100% (76/76), done.\u001b[K\n",
            "remote: Compressing objects: 100% (47/47), done.\u001b[K\n",
            "remote: Total 76 (delta 26), reused 59 (delta 15), pack-reused 0 (from 0)\u001b[K\n",
            "Receiving objects: 100% (76/76), 318.16 KiB | 13.83 MiB/s, done.\n",
            "Resolving deltas: 100% (26/26), done.\n",
            "./\n",
            "./root/\n",
            "./root/.bashrc.biolab\n",
            "./root/.condarc\n",
            "./root/.vimrc\n",
            "./root/.tmux.conf\n",
            "./root/.bin.priority/\n",
            "./root/.bin.priority/pip2\n",
            "./root/.bin.priority/pip\n",
            "./root/.bin.priority/pip3\n",
            "./root/.profile\n",
            "--2025-05-29 09:20:31--  https://repo.anaconda.com/miniconda/Miniconda3-latest-Linux-x86_64.sh\n",
            "Resolving repo.anaconda.com (repo.anaconda.com)... 104.16.32.241, 104.16.191.158, 2606:4700::6810:bf9e, ...\n",
            "Connecting to repo.anaconda.com (repo.anaconda.com)|104.16.32.241|:443... connected.\n",
            "HTTP request sent, awaiting response... 200 OK\n",
            "Length: 155472915 (148M) [application/octet-stream]\n",
            "Saving to: ‘miniconda3.sh’\n",
            "\n",
            "miniconda3.sh       100%[===================>] 148.27M   267MB/s    in 0.6s    \n",
            "\n",
            "2025-05-29 09:20:32 (267 MB/s) - ‘miniconda3.sh’ saved [155472915/155472915]\n",
            "\n",
            "PREFIX=/root/conda\n",
            "Unpacking payload ...\n",
            "entry_point.py:256: DeprecationWarning: Python 3.14 will, by default, filter extracted tar archives and reject files or modify their metadata. Use the filter argument to control this behavior.\n",
            "entry_point.py:256: DeprecationWarning: Python 3.14 will, by default, filter extracted tar archives and reject files or modify their metadata. Use the filter argument to control this behavior.\n",
            "\n",
            "Installing base environment...\n",
            "\n",
            "Preparing transaction: ...working... done\n",
            "Executing transaction: ...working... done\n",
            "entry_point.py:256: DeprecationWarning: Python 3.14 will, by default, filter extracted tar archives and reject files or modify their metadata. Use the filter argument to control this behavior.\n",
            "installation finished.\n",
            "WARNING:\n",
            "    You currently have a PYTHONPATH environment variable set. This may cause\n",
            "    unexpected behavior when running the Python interpreter in Miniconda3.\n",
            "    For best results, please verify that your PYTHONPATH only points to\n",
            "    directories of packages that are compatible with the Python interpreter\n",
            "    in Miniconda3: /root/conda\n",
            "Activated conda environment `lab'!\n"
          ]
        }
      ]
    },
    {
      "cell_type": "code",
      "source": [
        "%cd /content/drive/MyDrive/binfo1-work/"
      ],
      "metadata": {
        "colab": {
          "base_uri": "https://localhost:8080/"
        },
        "id": "67Dqy-raNS-Z",
        "outputId": "008a541f-ba15-498a-f76a-0b1c01d636d4"
      },
      "execution_count": 4,
      "outputs": [
        {
          "output_type": "stream",
          "name": "stdout",
          "text": [
            "/content/drive/MyDrive/binfo1-work\n"
          ]
        }
      ]
    },
    {
      "cell_type": "code",
      "source": [
        "ls"
      ],
      "metadata": {
        "colab": {
          "base_uri": "https://localhost:8080/"
        },
        "id": "8pIVoqipNT05",
        "outputId": "f1001524-c6d0-4f68-d3db-a00b36d654f7"
      },
      "execution_count": 5,
      "outputs": [
        {
          "output_type": "stream",
          "name": "stdout",
          "text": [
            "CLIP-35L33G.bam                          gencode-plusexon.gtf\n",
            "CLIP-35L33G.bam.bai                      gencode-start.gtf\n",
            "CLIP-let7d.bam                           mirlet7d_entropy.bedgraph\n",
            "CLIP-let7d-gene.pileup                   mirlet7f-1_entropy.bedgraph\n",
            "CLIP-let7d.pileup                        mirlet7g_entropy.bedgraph\n",
            "CLIP-let7f-1.bam                         read-counts.txt\n",
            "CLIP-let7f-1-gene.pileup                 read-counts.txt.summary\n",
            "CLIP-let7f-1.pileup                      RNA-control.bam\n",
            "CLIP-let7g.bam                           RNA-control.bam.bai\n",
            "CLIP-let7g-gene.pileup                   RNA-siLin28a.bam\n",
            "CLIP-let7g.pileup                        RNA-siLin28a.bam.bai\n",
            "filtered-RPF-siLuc.bam                   RNA-siLuc.bam\n",
            "fivepcounts-filtered-RPF-siLin28a.txt    RNA-siLuc.bam.bai\n",
            "fivepcounts-filtered-RPF-siLuc.txt       RPF-siLin28a.bam\n",
            "fivepcounts-RPF-siLin28a.bed             RPF-siLin28a.bam.bai\n",
            "fivepcounts-RPF-siLuc.bed                RPF-siLuc.bam\n",
            "gencode-exons-containing-startcodon.bed  RPF-siLuc.bam.bai\n",
            "gencode.gtf\n"
          ]
        }
      ]
    },
    {
      "cell_type": "code",
      "source": [
        "!head -n 5 gencode.gtf\n",
        "\n",
        "#mouse LIN28A data라서 다른 data 다운 받아보기"
      ],
      "metadata": {
        "colab": {
          "base_uri": "https://localhost:8080/"
        },
        "id": "K4ycMUuFNf0e",
        "outputId": "6a534932-9b75-4bab-b20a-97ecc7687e7a"
      },
      "execution_count": 1,
      "outputs": [
        {
          "output_type": "stream",
          "name": "stdout",
          "text": [
            "head: cannot open 'gencode.gtf' for reading: No such file or directory\n"
          ]
        }
      ]
    },
    {
      "cell_type": "code",
      "source": [
        "#human LIN28B와 human DDX3X를 분석해보고 비교해보기."
      ],
      "metadata": {
        "id": "lSpm90pTXxXa"
      },
      "execution_count": null,
      "outputs": []
    },
    {
      "cell_type": "code",
      "source": [
        "#human eCLIP data 다운 받아보기.\n",
        "\n",
        "# LIN28B (human, K562)\n",
        "!wget https://www.encodeproject.org/files/ENCFF032JVT/@@download/ENCFF032JVT.bed.gz -O LIN28B_rep1.bed.gz\n",
        "!wget https://www.encodeproject.org/files/ENCFF783KFP/@@download/ENCFF783KFP.bed.gz -O LIN28B_rep2.bed.gz\n",
        "\n",
        "# DDX3X (human, K562)\n",
        "!wget https://www.encodeproject.org/files/ENCFF847SDC/@@download/ENCFF847SDC.bed.gz -O DDX3X_rep1.bed.gz\n",
        "!wget https://www.encodeproject.org/files/ENCFF104XOP/@@download/ENCFF104XOP.bed.gz -O DDX3X_rep2.bed.gz\n",
        "\n",
        "# 압축 해제\n",
        "!gunzip *.bed.gz\n"
      ],
      "metadata": {
        "colab": {
          "base_uri": "https://localhost:8080/"
        },
        "id": "ya2FuXdINtm9",
        "outputId": "44739a66-b77d-4e81-fa9a-c7468ecfeff2"
      },
      "execution_count": 5,
      "outputs": [
        {
          "output_type": "stream",
          "name": "stdout",
          "text": [
            "--2025-05-29 09:24:30--  https://www.encodeproject.org/files/ENCFF032JVT/@@download/ENCFF032JVT.bed.gz\n",
            "Resolving www.encodeproject.org (www.encodeproject.org)... 34.211.244.144\n",
            "Connecting to www.encodeproject.org (www.encodeproject.org)|34.211.244.144|:443... connected.\n",
            "HTTP request sent, awaiting response... 403 Forbidden\n",
            "2025-05-29 09:24:30 ERROR 403: Forbidden.\n",
            "\n",
            "--2025-05-29 09:24:30--  https://www.encodeproject.org/files/ENCFF783KFP/@@download/ENCFF783KFP.bed.gz\n",
            "Resolving www.encodeproject.org (www.encodeproject.org)... 34.211.244.144\n",
            "Connecting to www.encodeproject.org (www.encodeproject.org)|34.211.244.144|:443... connected.\n",
            "HTTP request sent, awaiting response... 404 Not Found\n",
            "2025-05-29 09:24:31 ERROR 404: Not Found.\n",
            "\n",
            "--2025-05-29 09:24:31--  https://www.encodeproject.org/files/ENCFF847SDC/@@download/ENCFF847SDC.bed.gz\n",
            "Resolving www.encodeproject.org (www.encodeproject.org)... 34.211.244.144\n",
            "Connecting to www.encodeproject.org (www.encodeproject.org)|34.211.244.144|:443... connected.\n",
            "HTTP request sent, awaiting response... 404 Not Found\n",
            "2025-05-29 09:24:31 ERROR 404: Not Found.\n",
            "\n",
            "--2025-05-29 09:24:31--  https://www.encodeproject.org/files/ENCFF104XOP/@@download/ENCFF104XOP.bed.gz\n",
            "Resolving www.encodeproject.org (www.encodeproject.org)... 34.211.244.144\n",
            "Connecting to www.encodeproject.org (www.encodeproject.org)|34.211.244.144|:443... connected.\n",
            "HTTP request sent, awaiting response... 404 Not Found\n",
            "2025-05-29 09:24:31 ERROR 404: Not Found.\n",
            "\n",
            "\n",
            "gzip: DDX3X_rep1.bed.gz: unexpected end of file\n"
          ]
        }
      ]
    },
    {
      "cell_type": "code",
      "source": [
        "#파일 다운 실패; ENCODE 웹사이트에서 수동 다운로드 후, Colab에 업로드"
      ],
      "metadata": {
        "id": "6JvaKUU6Wq8u"
      },
      "execution_count": 4,
      "outputs": []
    },
    {
      "cell_type": "markdown",
      "source": [],
      "metadata": {
        "id": "7Oo1jSUEYM_I"
      }
    },
    {
      "cell_type": "code",
      "source": [],
      "metadata": {
        "id": "XT6gYH_NY1t6"
      },
      "execution_count": null,
      "outputs": []
    }
  ]
}