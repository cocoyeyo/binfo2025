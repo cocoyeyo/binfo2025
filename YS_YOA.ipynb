{
  "nbformat": 4,
  "nbformat_minor": 0,
  "metadata": {
    "colab": {
      "provenance": []
    },
    "kernelspec": {
      "name": "python3",
      "display_name": "Python 3"
    },
    "language_info": {
      "name": "python"
    }
  },
  "cells": [
    {
      "cell_type": "code",
      "execution_count": 1,
      "metadata": {
        "colab": {
          "base_uri": "https://localhost:8080/"
        },
        "id": "y2hMLTSdHImD",
        "outputId": "ae6491a0-9aa5-40dd-e6b5-0d177176d7a9"
      },
      "outputs": [
        {
          "output_type": "stream",
          "name": "stdout",
          "text": [
            "Mounted at /content/drive\n"
          ]
        }
      ],
      "source": [
        "from google.colab import drive\n",
        "drive.mount('/content/drive')"
      ]
    },
    {
      "cell_type": "code",
      "source": [
        "%cd /content/drive/MyDrive/YS_YOA"
      ],
      "metadata": {
        "colab": {
          "base_uri": "https://localhost:8080/"
        },
        "id": "ZUDNUdL-HO50",
        "outputId": "1c204b2c-d6f2-485b-cad0-76273bd3a47c"
      },
      "execution_count": 2,
      "outputs": [
        {
          "output_type": "stream",
          "name": "stdout",
          "text": [
            "/content/drive/MyDrive/YS_YOA\n"
          ]
        }
      ]
    },
    {
      "cell_type": "code",
      "source": [
        "#human DDX3X와 human DDX6를 분석해보고 비교해보기; 기능상반..\n",
        "#ENCODE 웹사이트에서 수동 다운로드 후, Colab에 업로드"
      ],
      "metadata": {
        "id": "siLQm_G-HgFa"
      },
      "execution_count": null,
      "outputs": []
    },
    {
      "cell_type": "code",
      "source": [
        "!gunzip DDX3X_K562_eCLIP.bed.gz\n",
        "!gunzip DDX6_K562_eCLIP.bed.gz"
      ],
      "metadata": {
        "id": "g410zH8gIXAS"
      },
      "execution_count": null,
      "outputs": []
    },
    {
      "cell_type": "code",
      "source": [
        "import pandas as pd\n",
        "\n",
        "ddx3x_bed = pd.read_csv('DDX3X_K562_eCLIP.bed', sep='\\t', header=None)\n",
        "ddx6_bed = pd.read_csv('DDX6_K562_eCLIP.bed', sep='\\t', header=None)\n",
        "\n",
        "# 컬럼 이름 지정 (narrowPeak 포맷 기준)\n",
        "columns = [\n",
        "    'chr', 'start', 'end', 'name', 'score', 'strand',\n",
        "    'signalValue', 'pValue', 'qValue', 'peak'\n",
        "]\n",
        "ddx3x_bed.columns = columns\n",
        "ddx6_bed.columns = columns\n",
        "\n",
        "# 파일 미리보기\n",
        "print('DDX3X:')\n",
        "print(ddx3x_bed.head())\n",
        "print('\\nDDX6:')\n",
        "print(ddx6_bed.head())"
      ],
      "metadata": {
        "colab": {
          "base_uri": "https://localhost:8080/"
        },
        "id": "rC-rI-EnIXzc",
        "outputId": "fbcab823-7893-4acc-c79e-f2ea12dc33df"
      },
      "execution_count": null,
      "outputs": [
        {
          "output_type": "stream",
          "name": "stdout",
          "text": [
            "DDX3X:\n",
            "     chr      start        end            name  score strand  signalValue  \\\n",
            "0  chr11   94973496   94973570  DDX3X_K562_IDR   1000      -     3.466426   \n",
            "1  chr22   40819227   40819349  DDX3X_K562_IDR   1000      -     3.318698   \n",
            "2  chr22   40819194   40819227  DDX3X_K562_IDR   1000      -     3.073488   \n",
            "3   chrX   63351168   63351323  DDX3X_K562_IDR   1000      -     4.085411   \n",
            "4   chr2  112584599  112584650  DDX3X_K562_IDR   1000      +     4.551388   \n",
            "\n",
            "     pValue  qValue  peak  \n",
            "0  4.474207      -1    -1  \n",
            "1  8.519145      -1    -1  \n",
            "2  3.550105      -1    -1  \n",
            "3  9.051959      -1    -1  \n",
            "4  6.486314      -1    -1  \n",
            "\n",
            "DDX6:\n",
            "     chr     start       end           name  score strand  signalValue  \\\n",
            "0   chr6  44155262  44155329  DDX6_K562_IDR   1000      +     3.999091   \n",
            "1  chr17  82852855  82852920  DDX6_K562_IDR   1000      +     3.439095   \n",
            "2   chr1   1335439   1335500  DDX6_K562_IDR   1000      -     4.534286   \n",
            "3   chr1   1335309   1335383  DDX6_K562_IDR   1000      -     4.501860   \n",
            "4  chr16  85612717  85612750  DDX6_K562_IDR   1000      +     4.913782   \n",
            "\n",
            "     pValue  qValue  peak  \n",
            "0  7.530451      -1    -1  \n",
            "1  4.782928      -1    -1  \n",
            "2  7.722840      -1    -1  \n",
            "3  6.466817      -1    -1  \n",
            "4  3.991571      -1    -1  \n"
          ]
        }
      ]
    },
    {
      "cell_type": "code",
      "source": [
        "#GTF annotation으로 UTR/CDS mapping\n",
        "!wget https://ftp.ebi.ac.uk/pub/databases/gencode/Gencode_human/release_38/gencode.v38.annotation.gtf.gz\n",
        "!gunzip gencode.v38.annotation.gtf.gz"
      ],
      "metadata": {
        "colab": {
          "base_uri": "https://localhost:8080/"
        },
        "id": "gyEr5WUJIgc2",
        "outputId": "98d0df41-322e-46a4-bb2a-918491992242"
      },
      "execution_count": 3,
      "outputs": [
        {
          "output_type": "stream",
          "name": "stdout",
          "text": [
            "--2025-06-10 16:01:31--  https://ftp.ebi.ac.uk/pub/databases/gencode/Gencode_human/release_38/gencode.v38.annotation.gtf.gz\n",
            "Resolving ftp.ebi.ac.uk (ftp.ebi.ac.uk)... 193.62.193.165\n",
            "Connecting to ftp.ebi.ac.uk (ftp.ebi.ac.uk)|193.62.193.165|:443... connected.\n",
            "HTTP request sent, awaiting response... 200 OK\n",
            "Length: 46556621 (44M) [application/x-gzip]\n",
            "Saving to: ‘gencode.v38.annotation.gtf.gz’\n",
            "\n",
            "gencode.v38.annotat 100%[===================>]  44.40M  21.6MB/s    in 2.1s    \n",
            "\n",
            "2025-06-10 16:01:33 (21.6 MB/s) - ‘gencode.v38.annotation.gtf.gz’ saved [46556621/46556621]\n",
            "\n"
          ]
        }
      ]
    },
    {
      "cell_type": "code",
      "source": [
        "!head -30 gencode.v38.annotation.gtf"
      ],
      "metadata": {
        "colab": {
          "base_uri": "https://localhost:8080/"
        },
        "id": "w5vTTTa9IvfK",
        "outputId": "90b7c721-9534-42b0-fd38-38998b6b5bf9"
      },
      "execution_count": 10,
      "outputs": [
        {
          "output_type": "stream",
          "name": "stdout",
          "text": [
            "##description: evidence-based annotation of the human genome (GRCh38), version 38 (Ensembl 104)\n",
            "##provider: GENCODE\n",
            "##contact: gencode-help@ebi.ac.uk\n",
            "##format: gtf\n",
            "##date: 2021-03-12\n",
            "chr1\tHAVANA\tgene\t11869\t14409\t.\t+\t.\tgene_id \"ENSG00000223972.5\"; gene_type \"transcribed_unprocessed_pseudogene\"; gene_name \"DDX11L1\"; level 2; hgnc_id \"HGNC:37102\"; havana_gene \"OTTHUMG00000000961.2\";\n",
            "chr1\tHAVANA\ttranscript\t11869\t14409\t.\t+\t.\tgene_id \"ENSG00000223972.5\"; transcript_id \"ENST00000456328.2\"; gene_type \"transcribed_unprocessed_pseudogene\"; gene_name \"DDX11L1\"; transcript_type \"processed_transcript\"; transcript_name \"DDX11L1-202\"; level 2; transcript_support_level \"1\"; hgnc_id \"HGNC:37102\"; tag \"basic\"; havana_gene \"OTTHUMG00000000961.2\"; havana_transcript \"OTTHUMT00000362751.1\";\n",
            "chr1\tHAVANA\texon\t11869\t12227\t.\t+\t.\tgene_id \"ENSG00000223972.5\"; transcript_id \"ENST00000456328.2\"; gene_type \"transcribed_unprocessed_pseudogene\"; gene_name \"DDX11L1\"; transcript_type \"processed_transcript\"; transcript_name \"DDX11L1-202\"; exon_number 1; exon_id \"ENSE00002234944.1\"; level 2; transcript_support_level \"1\"; hgnc_id \"HGNC:37102\"; tag \"basic\"; havana_gene \"OTTHUMG00000000961.2\"; havana_transcript \"OTTHUMT00000362751.1\";\n",
            "chr1\tHAVANA\texon\t12613\t12721\t.\t+\t.\tgene_id \"ENSG00000223972.5\"; transcript_id \"ENST00000456328.2\"; gene_type \"transcribed_unprocessed_pseudogene\"; gene_name \"DDX11L1\"; transcript_type \"processed_transcript\"; transcript_name \"DDX11L1-202\"; exon_number 2; exon_id \"ENSE00003582793.1\"; level 2; transcript_support_level \"1\"; hgnc_id \"HGNC:37102\"; tag \"basic\"; havana_gene \"OTTHUMG00000000961.2\"; havana_transcript \"OTTHUMT00000362751.1\";\n",
            "chr1\tHAVANA\texon\t13221\t14409\t.\t+\t.\tgene_id \"ENSG00000223972.5\"; transcript_id \"ENST00000456328.2\"; gene_type \"transcribed_unprocessed_pseudogene\"; gene_name \"DDX11L1\"; transcript_type \"processed_transcript\"; transcript_name \"DDX11L1-202\"; exon_number 3; exon_id \"ENSE00002312635.1\"; level 2; transcript_support_level \"1\"; hgnc_id \"HGNC:37102\"; tag \"basic\"; havana_gene \"OTTHUMG00000000961.2\"; havana_transcript \"OTTHUMT00000362751.1\";\n",
            "chr1\tHAVANA\ttranscript\t12010\t13670\t.\t+\t.\tgene_id \"ENSG00000223972.5\"; transcript_id \"ENST00000450305.2\"; gene_type \"transcribed_unprocessed_pseudogene\"; gene_name \"DDX11L1\"; transcript_type \"transcribed_unprocessed_pseudogene\"; transcript_name \"DDX11L1-201\"; level 2; transcript_support_level \"NA\"; hgnc_id \"HGNC:37102\"; ont \"PGO:0000005\"; ont \"PGO:0000019\"; tag \"basic\"; tag \"Ensembl_canonical\"; havana_gene \"OTTHUMG00000000961.2\"; havana_transcript \"OTTHUMT00000002844.2\";\n",
            "chr1\tHAVANA\texon\t12010\t12057\t.\t+\t.\tgene_id \"ENSG00000223972.5\"; transcript_id \"ENST00000450305.2\"; gene_type \"transcribed_unprocessed_pseudogene\"; gene_name \"DDX11L1\"; transcript_type \"transcribed_unprocessed_pseudogene\"; transcript_name \"DDX11L1-201\"; exon_number 1; exon_id \"ENSE00001948541.1\"; level 2; transcript_support_level \"NA\"; hgnc_id \"HGNC:37102\"; ont \"PGO:0000005\"; ont \"PGO:0000019\"; tag \"basic\"; tag \"Ensembl_canonical\"; havana_gene \"OTTHUMG00000000961.2\"; havana_transcript \"OTTHUMT00000002844.2\";\n",
            "chr1\tHAVANA\texon\t12179\t12227\t.\t+\t.\tgene_id \"ENSG00000223972.5\"; transcript_id \"ENST00000450305.2\"; gene_type \"transcribed_unprocessed_pseudogene\"; gene_name \"DDX11L1\"; transcript_type \"transcribed_unprocessed_pseudogene\"; transcript_name \"DDX11L1-201\"; exon_number 2; exon_id \"ENSE00001671638.2\"; level 2; transcript_support_level \"NA\"; hgnc_id \"HGNC:37102\"; ont \"PGO:0000005\"; ont \"PGO:0000019\"; tag \"basic\"; tag \"Ensembl_canonical\"; havana_gene \"OTTHUMG00000000961.2\"; havana_transcript \"OTTHUMT00000002844.2\";\n",
            "chr1\tHAVANA\texon\t12613\t12697\t.\t+\t.\tgene_id \"ENSG00000223972.5\"; transcript_id \"ENST00000450305.2\"; gene_type \"transcribed_unprocessed_pseudogene\"; gene_name \"DDX11L1\"; transcript_type \"transcribed_unprocessed_pseudogene\"; transcript_name \"DDX11L1-201\"; exon_number 3; exon_id \"ENSE00001758273.2\"; level 2; transcript_support_level \"NA\"; hgnc_id \"HGNC:37102\"; ont \"PGO:0000005\"; ont \"PGO:0000019\"; tag \"basic\"; tag \"Ensembl_canonical\"; havana_gene \"OTTHUMG00000000961.2\"; havana_transcript \"OTTHUMT00000002844.2\";\n",
            "chr1\tHAVANA\texon\t12975\t13052\t.\t+\t.\tgene_id \"ENSG00000223972.5\"; transcript_id \"ENST00000450305.2\"; gene_type \"transcribed_unprocessed_pseudogene\"; gene_name \"DDX11L1\"; transcript_type \"transcribed_unprocessed_pseudogene\"; transcript_name \"DDX11L1-201\"; exon_number 4; exon_id \"ENSE00001799933.2\"; level 2; transcript_support_level \"NA\"; hgnc_id \"HGNC:37102\"; ont \"PGO:0000005\"; ont \"PGO:0000019\"; tag \"basic\"; tag \"Ensembl_canonical\"; havana_gene \"OTTHUMG00000000961.2\"; havana_transcript \"OTTHUMT00000002844.2\";\n",
            "chr1\tHAVANA\texon\t13221\t13374\t.\t+\t.\tgene_id \"ENSG00000223972.5\"; transcript_id \"ENST00000450305.2\"; gene_type \"transcribed_unprocessed_pseudogene\"; gene_name \"DDX11L1\"; transcript_type \"transcribed_unprocessed_pseudogene\"; transcript_name \"DDX11L1-201\"; exon_number 5; exon_id \"ENSE00001746346.2\"; level 2; transcript_support_level \"NA\"; hgnc_id \"HGNC:37102\"; ont \"PGO:0000005\"; ont \"PGO:0000019\"; tag \"basic\"; tag \"Ensembl_canonical\"; havana_gene \"OTTHUMG00000000961.2\"; havana_transcript \"OTTHUMT00000002844.2\";\n",
            "chr1\tHAVANA\texon\t13453\t13670\t.\t+\t.\tgene_id \"ENSG00000223972.5\"; transcript_id \"ENST00000450305.2\"; gene_type \"transcribed_unprocessed_pseudogene\"; gene_name \"DDX11L1\"; transcript_type \"transcribed_unprocessed_pseudogene\"; transcript_name \"DDX11L1-201\"; exon_number 6; exon_id \"ENSE00001863096.1\"; level 2; transcript_support_level \"NA\"; hgnc_id \"HGNC:37102\"; ont \"PGO:0000005\"; ont \"PGO:0000019\"; tag \"basic\"; tag \"Ensembl_canonical\"; havana_gene \"OTTHUMG00000000961.2\"; havana_transcript \"OTTHUMT00000002844.2\";\n",
            "chr1\tHAVANA\tgene\t14404\t29570\t.\t-\t.\tgene_id \"ENSG00000227232.5\"; gene_type \"unprocessed_pseudogene\"; gene_name \"WASH7P\"; level 2; hgnc_id \"HGNC:38034\"; havana_gene \"OTTHUMG00000000958.1\";\n",
            "chr1\tHAVANA\ttranscript\t14404\t29570\t.\t-\t.\tgene_id \"ENSG00000227232.5\"; transcript_id \"ENST00000488147.1\"; gene_type \"unprocessed_pseudogene\"; gene_name \"WASH7P\"; transcript_type \"unprocessed_pseudogene\"; transcript_name \"WASH7P-201\"; level 2; transcript_support_level \"NA\"; hgnc_id \"HGNC:38034\"; ont \"PGO:0000005\"; tag \"basic\"; tag \"Ensembl_canonical\"; havana_gene \"OTTHUMG00000000958.1\"; havana_transcript \"OTTHUMT00000002839.1\";\n",
            "chr1\tHAVANA\texon\t29534\t29570\t.\t-\t.\tgene_id \"ENSG00000227232.5\"; transcript_id \"ENST00000488147.1\"; gene_type \"unprocessed_pseudogene\"; gene_name \"WASH7P\"; transcript_type \"unprocessed_pseudogene\"; transcript_name \"WASH7P-201\"; exon_number 1; exon_id \"ENSE00001890219.1\"; level 2; transcript_support_level \"NA\"; hgnc_id \"HGNC:38034\"; ont \"PGO:0000005\"; tag \"basic\"; tag \"Ensembl_canonical\"; havana_gene \"OTTHUMG00000000958.1\"; havana_transcript \"OTTHUMT00000002839.1\";\n",
            "chr1\tHAVANA\texon\t24738\t24891\t.\t-\t.\tgene_id \"ENSG00000227232.5\"; transcript_id \"ENST00000488147.1\"; gene_type \"unprocessed_pseudogene\"; gene_name \"WASH7P\"; transcript_type \"unprocessed_pseudogene\"; transcript_name \"WASH7P-201\"; exon_number 2; exon_id \"ENSE00003507205.1\"; level 2; transcript_support_level \"NA\"; hgnc_id \"HGNC:38034\"; ont \"PGO:0000005\"; tag \"basic\"; tag \"Ensembl_canonical\"; havana_gene \"OTTHUMG00000000958.1\"; havana_transcript \"OTTHUMT00000002839.1\";\n",
            "chr1\tHAVANA\texon\t18268\t18366\t.\t-\t.\tgene_id \"ENSG00000227232.5\"; transcript_id \"ENST00000488147.1\"; gene_type \"unprocessed_pseudogene\"; gene_name \"WASH7P\"; transcript_type \"unprocessed_pseudogene\"; transcript_name \"WASH7P-201\"; exon_number 3; exon_id \"ENSE00003477500.1\"; level 2; transcript_support_level \"NA\"; hgnc_id \"HGNC:38034\"; ont \"PGO:0000005\"; tag \"basic\"; tag \"Ensembl_canonical\"; havana_gene \"OTTHUMG00000000958.1\"; havana_transcript \"OTTHUMT00000002839.1\";\n",
            "chr1\tHAVANA\texon\t17915\t18061\t.\t-\t.\tgene_id \"ENSG00000227232.5\"; transcript_id \"ENST00000488147.1\"; gene_type \"unprocessed_pseudogene\"; gene_name \"WASH7P\"; transcript_type \"unprocessed_pseudogene\"; transcript_name \"WASH7P-201\"; exon_number 4; exon_id \"ENSE00003565697.1\"; level 2; transcript_support_level \"NA\"; hgnc_id \"HGNC:38034\"; ont \"PGO:0000005\"; tag \"basic\"; tag \"Ensembl_canonical\"; havana_gene \"OTTHUMG00000000958.1\"; havana_transcript \"OTTHUMT00000002839.1\";\n",
            "chr1\tHAVANA\texon\t17606\t17742\t.\t-\t.\tgene_id \"ENSG00000227232.5\"; transcript_id \"ENST00000488147.1\"; gene_type \"unprocessed_pseudogene\"; gene_name \"WASH7P\"; transcript_type \"unprocessed_pseudogene\"; transcript_name \"WASH7P-201\"; exon_number 5; exon_id \"ENSE00003475637.1\"; level 2; transcript_support_level \"NA\"; hgnc_id \"HGNC:38034\"; ont \"PGO:0000005\"; tag \"basic\"; tag \"Ensembl_canonical\"; havana_gene \"OTTHUMG00000000958.1\"; havana_transcript \"OTTHUMT00000002839.1\";\n",
            "chr1\tHAVANA\texon\t17233\t17368\t.\t-\t.\tgene_id \"ENSG00000227232.5\"; transcript_id \"ENST00000488147.1\"; gene_type \"unprocessed_pseudogene\"; gene_name \"WASH7P\"; transcript_type \"unprocessed_pseudogene\"; transcript_name \"WASH7P-201\"; exon_number 6; exon_id \"ENSE00003502542.1\"; level 2; transcript_support_level \"NA\"; hgnc_id \"HGNC:38034\"; ont \"PGO:0000005\"; tag \"basic\"; tag \"Ensembl_canonical\"; havana_gene \"OTTHUMG00000000958.1\"; havana_transcript \"OTTHUMT00000002839.1\";\n",
            "chr1\tHAVANA\texon\t16858\t17055\t.\t-\t.\tgene_id \"ENSG00000227232.5\"; transcript_id \"ENST00000488147.1\"; gene_type \"unprocessed_pseudogene\"; gene_name \"WASH7P\"; transcript_type \"unprocessed_pseudogene\"; transcript_name \"WASH7P-201\"; exon_number 7; exon_id \"ENSE00003553898.1\"; level 2; transcript_support_level \"NA\"; hgnc_id \"HGNC:38034\"; ont \"PGO:0000005\"; tag \"basic\"; tag \"Ensembl_canonical\"; havana_gene \"OTTHUMG00000000958.1\"; havana_transcript \"OTTHUMT00000002839.1\";\n",
            "chr1\tHAVANA\texon\t16607\t16765\t.\t-\t.\tgene_id \"ENSG00000227232.5\"; transcript_id \"ENST00000488147.1\"; gene_type \"unprocessed_pseudogene\"; gene_name \"WASH7P\"; transcript_type \"unprocessed_pseudogene\"; transcript_name \"WASH7P-201\"; exon_number 8; exon_id \"ENSE00003621279.1\"; level 2; transcript_support_level \"NA\"; hgnc_id \"HGNC:38034\"; ont \"PGO:0000005\"; tag \"basic\"; tag \"Ensembl_canonical\"; havana_gene \"OTTHUMG00000000958.1\"; havana_transcript \"OTTHUMT00000002839.1\";\n",
            "chr1\tHAVANA\texon\t15796\t15947\t.\t-\t.\tgene_id \"ENSG00000227232.5\"; transcript_id \"ENST00000488147.1\"; gene_type \"unprocessed_pseudogene\"; gene_name \"WASH7P\"; transcript_type \"unprocessed_pseudogene\"; transcript_name \"WASH7P-201\"; exon_number 9; exon_id \"ENSE00002030414.1\"; level 2; transcript_support_level \"NA\"; hgnc_id \"HGNC:38034\"; ont \"PGO:0000005\"; tag \"basic\"; tag \"Ensembl_canonical\"; havana_gene \"OTTHUMG00000000958.1\"; havana_transcript \"OTTHUMT00000002839.1\";\n",
            "chr1\tHAVANA\texon\t15005\t15038\t.\t-\t.\tgene_id \"ENSG00000227232.5\"; transcript_id \"ENST00000488147.1\"; gene_type \"unprocessed_pseudogene\"; gene_name \"WASH7P\"; transcript_type \"unprocessed_pseudogene\"; transcript_name \"WASH7P-201\"; exon_number 10; exon_id \"ENSE00001935574.1\"; level 2; transcript_support_level \"NA\"; hgnc_id \"HGNC:38034\"; ont \"PGO:0000005\"; tag \"basic\"; tag \"Ensembl_canonical\"; havana_gene \"OTTHUMG00000000958.1\"; havana_transcript \"OTTHUMT00000002839.1\";\n",
            "chr1\tHAVANA\texon\t14404\t14501\t.\t-\t.\tgene_id \"ENSG00000227232.5\"; transcript_id \"ENST00000488147.1\"; gene_type \"unprocessed_pseudogene\"; gene_name \"WASH7P\"; transcript_type \"unprocessed_pseudogene\"; transcript_name \"WASH7P-201\"; exon_number 11; exon_id \"ENSE00001843071.1\"; level 2; transcript_support_level \"NA\"; hgnc_id \"HGNC:38034\"; ont \"PGO:0000005\"; tag \"basic\"; tag \"Ensembl_canonical\"; havana_gene \"OTTHUMG00000000958.1\"; havana_transcript \"OTTHUMT00000002839.1\";\n"
          ]
        }
      ]
    },
    {
      "cell_type": "code",
      "source": [
        "!grep -o 'gene_type \"[^\"]*\"' gencode.v38.annotation.gtf | cut -d'\"' -f2 | sort | uniq"
      ],
      "metadata": {
        "colab": {
          "base_uri": "https://localhost:8080/"
        },
        "id": "wjD-VdoXJAoO",
        "outputId": "8a089736-c282-4458-aaaa-d357081b2b4f"
      },
      "execution_count": 11,
      "outputs": [
        {
          "output_type": "stream",
          "name": "stdout",
          "text": [
            "IG_C_gene\n",
            "IG_C_pseudogene\n",
            "IG_D_gene\n",
            "IG_J_gene\n",
            "IG_J_pseudogene\n",
            "IG_pseudogene\n",
            "IG_V_gene\n",
            "IG_V_pseudogene\n",
            "lncRNA\n",
            "miRNA\n",
            "misc_RNA\n",
            "Mt_rRNA\n",
            "Mt_tRNA\n",
            "polymorphic_pseudogene\n",
            "processed_pseudogene\n",
            "protein_coding\n",
            "pseudogene\n",
            "ribozyme\n",
            "rRNA\n",
            "rRNA_pseudogene\n",
            "scaRNA\n",
            "scRNA\n",
            "snoRNA\n",
            "snRNA\n",
            "sRNA\n",
            "TEC\n",
            "transcribed_processed_pseudogene\n",
            "transcribed_unitary_pseudogene\n",
            "transcribed_unprocessed_pseudogene\n",
            "translated_processed_pseudogene\n",
            "translated_unprocessed_pseudogene\n",
            "TR_C_gene\n",
            "TR_D_gene\n",
            "TR_J_gene\n",
            "TR_J_pseudogene\n",
            "TR_V_gene\n",
            "TR_V_pseudogene\n",
            "unitary_pseudogene\n",
            "unprocessed_pseudogene\n",
            "vault_RNA\n"
          ]
        }
      ]
    },
    {
      "cell_type": "code",
      "source": [
        "!grep 'gene_type \"rRNA\"' gencode.v38.annotation.gtf | head"
      ],
      "metadata": {
        "id": "asuhkqxMAdXr",
        "colab": {
          "base_uri": "https://localhost:8080/"
        },
        "outputId": "d59741e6-368b-4811-b58a-042c95f6399d"
      },
      "execution_count": 14,
      "outputs": [
        {
          "output_type": "stream",
          "name": "stdout",
          "text": [
            "chr1\tENSEMBL\tgene\t143439605\t143439714\t.\t+\t.\tgene_id \"ENSG00000252830.2\"; gene_type \"rRNA\"; gene_name \"RNA5SP533\"; level 3; hgnc_id \"HGNC:53802\";\n",
            "chr1\tENSEMBL\ttranscript\t143439605\t143439714\t.\t+\t.\tgene_id \"ENSG00000252830.2\"; transcript_id \"ENST00000517021.2\"; gene_type \"rRNA\"; gene_name \"RNA5SP533\"; transcript_type \"rRNA\"; transcript_name \"RNA5SP533-201\"; level 3; transcript_support_level \"NA\"; hgnc_id \"HGNC:53802\"; tag \"basic\"; tag \"Ensembl_canonical\";\n",
            "chr1\tENSEMBL\texon\t143439605\t143439714\t.\t+\t.\tgene_id \"ENSG00000252830.2\"; transcript_id \"ENST00000517021.2\"; gene_type \"rRNA\"; gene_name \"RNA5SP533\"; transcript_type \"rRNA\"; transcript_name \"RNA5SP533-201\"; exon_number 1; exon_id \"ENSE00002089298.2\"; level 3; transcript_support_level \"NA\"; hgnc_id \"HGNC:53802\"; tag \"basic\"; tag \"Ensembl_canonical\";\n",
            "chr1\tENSEMBL\tgene\t144265217\t144265326\t.\t+\t.\tgene_id \"ENSG00000276442.1\"; gene_type \"rRNA\"; gene_name \"RNA5SP529\"; level 3; hgnc_id \"HGNC:53798\";\n",
            "chr1\tENSEMBL\ttranscript\t144265217\t144265326\t.\t+\t.\tgene_id \"ENSG00000276442.1\"; transcript_id \"ENST00000621941.1\"; gene_type \"rRNA\"; gene_name \"RNA5SP529\"; transcript_type \"rRNA\"; transcript_name \"RNA5SP529-201\"; level 3; transcript_support_level \"NA\"; hgnc_id \"HGNC:53798\"; tag \"basic\"; tag \"Ensembl_canonical\";\n",
            "chr1\tENSEMBL\texon\t144265217\t144265326\t.\t+\t.\tgene_id \"ENSG00000276442.1\"; transcript_id \"ENST00000621941.1\"; gene_type \"rRNA\"; gene_name \"RNA5SP529\"; transcript_type \"rRNA\"; transcript_name \"RNA5SP529-201\"; exon_number 1; exon_id \"ENSE00003750354.1\"; level 3; transcript_support_level \"NA\"; hgnc_id \"HGNC:53798\"; tag \"basic\"; tag \"Ensembl_canonical\";\n",
            "chr1\tENSEMBL\tgene\t146539541\t146539663\t.\t-\t.\tgene_id \"ENSG00000274408.1\"; gene_type \"rRNA\"; gene_name \"RNA5SP536\"; level 3; hgnc_id \"HGNC:53805\";\n",
            "chr1\tENSEMBL\ttranscript\t146539541\t146539663\t.\t-\t.\tgene_id \"ENSG00000274408.1\"; transcript_id \"ENST00000622298.1\"; gene_type \"rRNA\"; gene_name \"RNA5SP536\"; transcript_type \"rRNA\"; transcript_name \"RNA5SP536-201\"; level 3; transcript_support_level \"NA\"; hgnc_id \"HGNC:53805\"; tag \"basic\"; tag \"Ensembl_canonical\";\n",
            "chr1\tENSEMBL\texon\t146539541\t146539663\t.\t-\t.\tgene_id \"ENSG00000274408.1\"; transcript_id \"ENST00000622298.1\"; gene_type \"rRNA\"; gene_name \"RNA5SP536\"; transcript_type \"rRNA\"; transcript_name \"RNA5SP536-201\"; exon_number 1; exon_id \"ENSE00003736746.1\"; level 3; transcript_support_level \"NA\"; hgnc_id \"HGNC:53805\"; tag \"basic\"; tag \"Ensembl_canonical\";\n",
            "chr1\tENSEMBL\tgene\t207708898\t207708981\t.\t-\t.\tgene_id \"ENSG00000274059.1\"; gene_type \"rRNA\"; gene_name \"RNA5SP534\"; level 3; hgnc_id \"HGNC:53803\";\n"
          ]
        }
      ]
    },
    {
      "cell_type": "markdown",
      "source": [
        "1. CDS 분류\n",
        "2. 5'UTR, 3'UTR 분류\n",
        "3. Intron 분류\n",
        "4. rRNA, snoRNA, miRNA\n",
        "5. 나머지 others로 분류"
      ],
      "metadata": {
        "id": "OGZgekTpsx8b"
      }
    },
    {
      "cell_type": "markdown",
      "source": [
        "GTF annotation에서 gene_type \"rRNA\"가 gene/transcript/exon 등 여러 feature에 동시에 나오는데, 이럴 때 eCLIP peak와 겹치는 구간을 rRNA로 어떻게 정의...\n",
        "gene, transcript, exon 등 gene_type이 \"rRNA\"인 모든 feature를 합친 bed파일(rRNA_union.bed) 생성\n",
        "\n",
        "bedtools merge로 겹치는 부분 합치기\n",
        "\n",
        "eCLIP peak와 intersect\n",
        "\n"
      ],
      "metadata": {
        "id": "JedUzJpHsYBY"
      }
    },
    {
      "cell_type": "code",
      "source": [
        "#CDS 분류\n",
        "\n",
        "# pybedtools 설치\n",
        "!pip install pybedtools\n",
        "\n",
        "import pybedtools\n",
        "\n",
        "# GTF에서 원하는 feature 추출 함수\n",
        "def extract_feature_bed(gtf_file, feature, out_bed):\n",
        "    bt = pybedtools.BedTool(gtf_file)\n",
        "    extracted = bt.filter(lambda x: x[2] == feature)\n",
        "    extracted.saveas(out_bed)\n",
        "\n",
        "# 추출\n",
        "extract_feature_bed('gencode.v38.annotation.gtf', 'CDS', 'CDS_v38.bed')"
      ],
      "metadata": {
        "colab": {
          "base_uri": "https://localhost:8080/"
        },
        "id": "LJQxQZdeqiXF",
        "outputId": "6fe98342-2306-4ea3-9c51-825cec006976"
      },
      "execution_count": 15,
      "outputs": [
        {
          "output_type": "stream",
          "name": "stdout",
          "text": [
            "Collecting pybedtools\n",
            "  Downloading pybedtools-0.12.0.tar.gz (12.6 MB)\n",
            "\u001b[2K     \u001b[90m━━━━━━━━━━━━━━━━━━━━━━━━━━━━━━━━━━━━━━━━\u001b[0m \u001b[32m12.6/12.6 MB\u001b[0m \u001b[31m35.9 MB/s\u001b[0m eta \u001b[36m0:00:00\u001b[0m\n",
            "\u001b[?25h  Installing build dependencies ... \u001b[?25l\u001b[?25hdone\n",
            "  Getting requirements to build wheel ... \u001b[?25l\u001b[?25hdone\n",
            "  Preparing metadata (pyproject.toml) ... \u001b[?25l\u001b[?25hdone\n",
            "Requirement already satisfied: numpy in /usr/local/lib/python3.11/dist-packages (from pybedtools) (2.0.2)\n",
            "Collecting pysam (from pybedtools)\n",
            "  Downloading pysam-0.23.3-cp311-cp311-manylinux_2_28_x86_64.whl.metadata (1.7 kB)\n",
            "Requirement already satisfied: pandas in /usr/local/lib/python3.11/dist-packages (from pybedtools) (2.2.2)\n",
            "Requirement already satisfied: python-dateutil>=2.8.2 in /usr/local/lib/python3.11/dist-packages (from pandas->pybedtools) (2.9.0.post0)\n",
            "Requirement already satisfied: pytz>=2020.1 in /usr/local/lib/python3.11/dist-packages (from pandas->pybedtools) (2025.2)\n",
            "Requirement already satisfied: tzdata>=2022.7 in /usr/local/lib/python3.11/dist-packages (from pandas->pybedtools) (2025.2)\n",
            "Requirement already satisfied: six>=1.5 in /usr/local/lib/python3.11/dist-packages (from python-dateutil>=2.8.2->pandas->pybedtools) (1.17.0)\n",
            "Downloading pysam-0.23.3-cp311-cp311-manylinux_2_28_x86_64.whl (26.5 MB)\n",
            "\u001b[2K   \u001b[90m━━━━━━━━━━━━━━━━━━━━━━━━━━━━━━━━━━━━━━━━\u001b[0m \u001b[32m26.5/26.5 MB\u001b[0m \u001b[31m24.4 MB/s\u001b[0m eta \u001b[36m0:00:00\u001b[0m\n",
            "\u001b[?25hBuilding wheels for collected packages: pybedtools\n",
            "  Building wheel for pybedtools (pyproject.toml) ... \u001b[?25l\u001b[?25hdone\n",
            "  Created wheel for pybedtools: filename=pybedtools-0.12.0-cp311-cp311-linux_x86_64.whl size=14261441 sha256=4f0af1bfdb1365d443bbb540972d8895870c38a1a5987a28b93d270a49a37a4f\n",
            "  Stored in directory: /root/.cache/pip/wheels/95/62/57/e8c47c2a43884227b6644cf1d2dabf3162a0f40b9c1493c1f5\n",
            "Successfully built pybedtools\n",
            "Installing collected packages: pysam, pybedtools\n",
            "Successfully installed pybedtools-0.12.0 pysam-0.23.3\n"
          ]
        }
      ]
    },
    {
      "cell_type": "markdown",
      "source": [],
      "metadata": {
        "id": "GImSO_5fsxXP"
      }
    },
    {
      "cell_type": "code",
      "source": [
        "#5'UTR/3'UTR annotation 먼저\n",
        "import pandas as pd\n",
        "\n",
        "\n",
        "gtf = pd.read_csv(\"gencode.v38.annotation.gtf\", sep=\"\\t\", comment=\"#\", header=None,\n",
        "                  names=[\"chr\", \"source\", \"feature\", \"start\", \"end\", \"score\", \"strand\", \"frame\", \"attribute\"])\n",
        "\n",
        "# UTR/ CDS만 추출\n",
        "utr = gtf[gtf[\"feature\"] == \"UTR\"].copy()\n",
        "cds = gtf[gtf[\"feature\"] == \"CDS\"].copy()\n",
        "\n",
        "# transcript_id 추출 함수\n",
        "def extract_transcript_id(attr):\n",
        "    for entry in attr.split(\";\"):\n",
        "        if \"transcript_id\" in entry:\n",
        "            return entry.split('\"')[1]\n",
        "    return None\n",
        "\n",
        "utr[\"transcript_id\"] = utr[\"attribute\"].apply(extract_transcript_id)\n",
        "cds[\"transcript_id\"] = cds[\"attribute\"].apply(extract_transcript_id)\n",
        "\n",
        "# CDS 시작/끝 좌표 집계\n",
        "cds_range = cds.groupby(\"transcript_id\")[[\"start\", \"end\"]].agg([\"min\", \"max\"])\n",
        "cds_range.columns = ['start_min', 'start_max', 'end_min', 'end_max']\n",
        "cds_range[\"cds_start\"] = cds_range[[\"start_min\", \"end_min\"]].min(axis=1)\n",
        "cds_range[\"cds_end\"] = cds_range[[\"start_max\", \"end_max\"]].max(axis=1)\n",
        "cds_range = cds_range[[\"cds_start\", \"cds_end\"]]\n",
        "\n",
        "# UTR에 merge\n",
        "utr = utr.merge(cds_range, on=\"transcript_id\", how=\"left\")\n",
        "\n",
        "# strand, CDS 위치 기반 5'/3' 구분 함수\n",
        "def label_utr(row):\n",
        "    if pd.isna(row[\"cds_start\"]) or pd.isna(row[\"cds_end\"]):\n",
        "        return \"unknown\"\n",
        "    if row[\"strand\"] == \"+\":\n",
        "        return \"5UTR\" if row[\"end\"] < row[\"cds_start\"] else \"3UTR\"\n",
        "    else:\n",
        "        return \"3UTR\" if row[\"start\"] > row[\"cds_end\"] else \"5UTR\"\n",
        "\n",
        "utr[\"UTR_type\"] = utr.apply(label_utr, axis=1)\n",
        "\n",
        "# BED 포맷 저장\n",
        "utr_bed = utr[[\"chr\", \"start\", \"end\", \"transcript_id\", \"score\", \"strand\", \"UTR_type\"]]\n",
        "utr_bed.to_csv(\"annotated_UTRs_v38.bed\", sep=\"\\t\", index=False, header=False)\n"
      ],
      "metadata": {
        "id": "GIxsgeA-uL1S"
      },
      "execution_count": 17,
      "outputs": []
    },
    {
      "cell_type": "code",
      "source": [
        "!awk '$7==\"5UTR\"' annotated_UTRs_v38.bed > five_utr_v38.bed\n",
        "!awk '$7==\"3UTR\"' annotated_UTRs_v38.bed > three_utr_v38.bed"
      ],
      "metadata": {
        "id": "PNxfXK0ZuQWM"
      },
      "execution_count": 18,
      "outputs": []
    },
    {
      "cell_type": "code",
      "source": [
        "!head five_utr_v38.bed\n",
        "!head three_utr_v38.bed\n",
        "#겹치는 부분 발생"
      ],
      "metadata": {
        "colab": {
          "base_uri": "https://localhost:8080/"
        },
        "id": "Qr9ROwEAunMF",
        "outputId": "86a07470-b4f3-4831-b166-fd83ad70a5a6"
      },
      "execution_count": 19,
      "outputs": [
        {
          "output_type": "stream",
          "name": "stdout",
          "text": [
            "chr1\t65419\t65433\tENST00000641515.2\t.\t+\t5UTR\n",
            "chr1\t65520\t65564\tENST00000641515.2\t.\t+\t5UTR\n",
            "chr1\t450740\t450742\tENST00000426406.4\t.\t-\t5UTR\n",
            "chr1\t685679\t685718\tENST00000332831.4\t.\t-\t5UTR\n",
            "chr1\t923923\t924431\tENST00000616016.5\t.\t+\t5UTR\n",
            "chr1\t923923\t924431\tENST00000618323.5\t.\t+\t5UTR\n",
            "chr1\t925150\t925189\tENST00000437963.5\t.\t+\t5UTR\n",
            "chr1\t925922\t925941\tENST00000437963.5\t.\t+\t5UTR\n",
            "chr1\t925731\t925800\tENST00000342066.8\t.\t+\t5UTR\n",
            "chr1\t925922\t925941\tENST00000342066.8\t.\t+\t5UTR\n",
            "chr1\t70006\t71585\tENST00000641515.2\t.\t+\t3UTR\n",
            "chr1\t686655\t686673\tENST00000332831.4\t.\t-\t3UTR\n",
            "chr1\t944151\t944574\tENST00000616016.5\t.\t+\t3UTR\n",
            "chr1\t944151\t944574\tENST00000618323.5\t.\t+\t3UTR\n",
            "chr1\t944151\t944574\tENST00000342066.8\t.\t+\t3UTR\n",
            "chr1\t944151\t944153\tENST00000616125.5\t.\t+\t3UTR\n",
            "chr1\t944151\t944153\tENST00000618779.5\t.\t+\t3UTR\n",
            "chr1\t944151\t944153\tENST00000622503.5\t.\t+\t3UTR\n",
            "chr1\t944151\t944153\tENST00000618181.5\t.\t+\t3UTR\n",
            "chr1\t944151\t944153\tENST00000617307.5\t.\t+\t3UTR\n"
          ]
        }
      ]
    },
    {
      "cell_type": "code",
      "source": [
        "# pybedtools 설치\n",
        "!apt-get install -y bedtools\n"
      ],
      "metadata": {
        "colab": {
          "base_uri": "https://localhost:8080/"
        },
        "id": "Krh7AMKbwbnm",
        "outputId": "3ba57b1a-bb67-45c7-881c-dc48e75907b1"
      },
      "execution_count": 25,
      "outputs": [
        {
          "output_type": "stream",
          "name": "stdout",
          "text": [
            "Reading package lists... Done\n",
            "Building dependency tree... Done\n",
            "Reading state information... Done\n",
            "The following NEW packages will be installed:\n",
            "  bedtools\n",
            "0 upgraded, 1 newly installed, 0 to remove and 35 not upgraded.\n",
            "Need to get 563 kB of archives.\n",
            "After this operation, 1,548 kB of additional disk space will be used.\n",
            "Get:1 http://archive.ubuntu.com/ubuntu jammy-updates/universe amd64 bedtools amd64 2.30.0+dfsg-2ubuntu0.1 [563 kB]\n",
            "Fetched 563 kB in 1s (634 kB/s)\n",
            "Selecting previously unselected package bedtools.\n",
            "(Reading database ... 126111 files and directories currently installed.)\n",
            "Preparing to unpack .../bedtools_2.30.0+dfsg-2ubuntu0.1_amd64.deb ...\n",
            "Unpacking bedtools (2.30.0+dfsg-2ubuntu0.1) ...\n",
            "Setting up bedtools (2.30.0+dfsg-2ubuntu0.1) ...\n"
          ]
        }
      ]
    },
    {
      "cell_type": "code",
      "source": [
        "#겹치는 부분 제거 (추후 다 해보기))\n",
        "import pybedtools\n",
        "\n",
        "!bedtools sort -i five_utr_v38.bed | bedtools merge -i - > five_utr_v38_merged.bed\n",
        "!bedtools sort -i three_utr_v38.bed | bedtools merge -i - > three_utr_v38_merged.bed\n",
        "!bedtools sort -i CDS_v38.bed | bedtools merge -i - > CDS_v38_merged.bed\n"
      ],
      "metadata": {
        "id": "tFqmkmLuuwDS"
      },
      "execution_count": 40,
      "outputs": []
    },
    {
      "cell_type": "code",
      "source": [
        "!wc -l CDS_v38.bed\n",
        "!wc -l CDS_v38_merged.bed\n"
      ],
      "metadata": {
        "colab": {
          "base_uri": "https://localhost:8080/"
        },
        "id": "7QF-AETZv-kM",
        "outputId": "06a96242-fea8-42fc-e6fd-916854e887ea"
      },
      "execution_count": 41,
      "outputs": [
        {
          "output_type": "stream",
          "name": "stdout",
          "text": [
            "825028 CDS_v38.bed\n",
            "212029 CDS_v38_merged.bed\n"
          ]
        }
      ]
    },
    {
      "cell_type": "code",
      "source": [
        "%%bash\n",
        "for type in miRNA rRNA snRNA snoRNA; do\n",
        "    grep \"gene_type \\\"$type\\\"\" gencode.v38.annotation.gtf > ${type}.gtf\n",
        "    awk 'BEGIN{OFS=\"\\t\"} $1 !~ /^#/ && $3 != \"CDS\" && $3 !~ /UTR/ {print $1, $4-1, $5, $10, \".\", $7}' ${type}.gtf > ${type}.bed\n",
        "done\n",
        "\n",
        "grep -v -e 'gene_type \"miRNA\"' \\\n",
        "        -e 'gene_type \"rRNA\"' \\\n",
        "        -e 'gene_type \"snRNA\"' \\\n",
        "        -e 'gene_type \"snoRNA\"' \\\n",
        "        gencode.v38.annotation.gtf > others.gtf\n",
        "\n",
        "awk 'BEGIN{OFS=\"\\t\"} $1 !~ /^#/ && $3 != \"CDS\" && $3 !~ /UTR/ {print $1, $4-1, $5, $10, \".\", $7}' others.gtf > others.bed"
      ],
      "metadata": {
        "id": "18f9eca8xCU2"
      },
      "execution_count": 52,
      "outputs": []
    },
    {
      "cell_type": "code",
      "source": [
        "!bedtools sort -i miRNA.bed | bedtools merge -i - > miRNA_merged.bed\n",
        "!bedtools sort -i rRNA.bed | bedtools merge -i - > rRNA_merged.bed\n",
        "!bedtools sort -i snRNA.bed | bedtools merge -i - > snRNA_merged.bed\n",
        "!bedtools sort -i snoRNA.bed | bedtools merge -i - > snoRNA_merged.bed\n",
        "!bedtools sort -i others.bed | bedtools merge -i - > others_merged.bed"
      ],
      "metadata": {
        "id": "Xyuz_dkuyjNV"
      },
      "execution_count": 65,
      "outputs": []
    },
    {
      "cell_type": "code",
      "source": [
        "!wc -l miRNA.bed\n",
        "!wc -l miRNA_merged.bed\n",
        "!wc -l rRNA.bed\n",
        "!wc -l rRNA_merged.bed\n",
        "!wc -l snRNA.bed\n",
        "!wc -l snRNA_merged.bed\n",
        "!wc -l snoRNA.bed\n",
        "!wc -l snRNA_merged.bed\n",
        "!wc -l others.bed\n",
        "!wc -l others_merged.bed\n",
        "#겹치는 부분 다 merge 완료"
      ],
      "metadata": {
        "colab": {
          "base_uri": "https://localhost:8080/"
        },
        "id": "AobyW0izz_f3",
        "outputId": "a74f76a8-fb28-4be0-ef1e-7e5d2dd87d55"
      },
      "execution_count": 66,
      "outputs": [
        {
          "output_type": "stream",
          "name": "stdout",
          "text": [
            "5637 miRNA.bed\n",
            "1822 miRNA_merged.bed\n",
            "141 rRNA.bed\n",
            "47 rRNA_merged.bed\n",
            "5703 snRNA.bed\n",
            "1901 snRNA_merged.bed\n",
            "2829 snoRNA.bed\n",
            "1901 snRNA_merged.bed\n",
            "1961684 others.bed\n",
            "31471 others_merged.bed\n"
          ]
        }
      ]
    },
    {
      "cell_type": "code",
      "source": [
        "#DDX3X와 DDX6\n",
        "\n",
        "#DDX3X\n",
        "# 5'UTR\n",
        "!bedtools intersect -a DDX3X_K562_eCLIP.bed -b five_utr_v38_merged.bed -u | wc -l\n",
        "# 3'UTR\n",
        "!bedtools intersect -a DDX3X_K562_eCLIP.bed -b three_utr_v38_merged.bed -u | wc -l\n",
        "# CDS\n",
        "!bedtools intersect -a DDX3X_K562_eCLIP.bed -b CDS_v38_merged.bed -u | wc -l\n",
        "# miRNA\n",
        "!bedtools intersect -a DDX3X_K562_eCLIP.bed -b miRNA_merged.bed -u | wc -l\n",
        "# rRNA\n",
        "!bedtools intersect -a DDX3X_K562_eCLIP.bed -b rRNA_merged.bed -u | wc -l\n",
        "# snRNA\n",
        "!bedtools intersect -a DDX3X_K562_eCLIP.bed -b snRNA_merged.bed -u | wc -l\n",
        "# snoRNA\n",
        "!bedtools intersect -a DDX3X_K562_eCLIP.bed -b snoRNA_merged.bed -u | wc -l\n",
        "# others\n",
        "!bedtools intersect -a DDX3X_K562_eCLIP.bed -b others_merged.bed -u | wc -l\n"
      ],
      "metadata": {
        "colab": {
          "base_uri": "https://localhost:8080/"
        },
        "id": "W_zPEiZB0ya6",
        "outputId": "9c903ead-e23c-4ec3-9417-76ce8f3d5664"
      },
      "execution_count": 67,
      "outputs": [
        {
          "output_type": "stream",
          "name": "stdout",
          "text": [
            "2808\n",
            "2722\n",
            "3831\n",
            "18\n",
            "0\n",
            "3\n",
            "0\n",
            "6676\n"
          ]
        }
      ]
    },
    {
      "cell_type": "code",
      "source": [
        "#DDX6\n",
        "# 5'UTR\n",
        "!bedtools intersect -a DDX6_K562_eCLIP.bed -b five_utr_v38_merged.bed -u | wc -l\n",
        "# 3'UTR\n",
        "!bedtools intersect -a DDX6_K562_eCLIP.bed -b three_utr_v38_merged.bed -u | wc -l\n",
        "# CDS\n",
        "!bedtools intersect -a DDX6_K562_eCLIP.bed -b CDS_v38_merged.bed -u | wc -l\n",
        "# miRNA\n",
        "!bedtools intersect -a DDX6_K562_eCLIP.bed -b miRNA_merged.bed -u | wc -l\n",
        "# rRNA\n",
        "!bedtools intersect -a DDX6_K562_eCLIP.bed -b rRNA_merged.bed -u | wc -l\n",
        "# snRNA\n",
        "!bedtools intersect -a DDX6_K562_eCLIP.bed -b snRNA_merged.bed -u | wc -l\n",
        "# snoRNA\n",
        "!bedtools intersect -a DDX6_K562_eCLIP.bed -b snoRNA_merged.bed -u | wc -l\n",
        "# others\n",
        "!bedtools intersect -a DDX6_K562_eCLIP.bed -b others_merged.bed -u | wc -l\n"
      ],
      "metadata": {
        "colab": {
          "base_uri": "https://localhost:8080/"
        },
        "id": "6VOMUE7l6Jl_",
        "outputId": "5b7df802-3d4e-4194-a5ee-d0a3a507857b"
      },
      "execution_count": 68,
      "outputs": [
        {
          "output_type": "stream",
          "name": "stdout",
          "text": [
            "681\n",
            "778\n",
            "361\n",
            "3\n",
            "0\n",
            "0\n",
            "1\n",
            "1955\n"
          ]
        }
      ]
    },
    {
      "cell_type": "markdown",
      "source": [
        "      DDX3X /  DDX6\n",
        "\n",
        "5'UTR: 2808 / 681\n",
        "\n",
        "3'UTR: 2722 / 778\n",
        "\n",
        "CDS: 3831 / 361\n",
        "\n",
        "miRNA: 18 / 3\n",
        "\n",
        "rRNA: 0 / 0\n",
        "\n",
        "snRNA: 3 / 0\n",
        "\n",
        "snoRNA: 0 / 1\n",
        "\n",
        "Others: 6676 / 1955\n"
      ],
      "metadata": {
        "id": "xuwstw3LALVz"
      }
    },
    {
      "cell_type": "code",
      "source": [
        "# 카운트 값 입력 (위 값 예시)\n",
        "counts = [2808, 2722, 3831, 18, 0, 3, 0, 6676]\n",
        "labels = [\n",
        "    \"5' UTR\", \"3' UTR\", \"CDS\", \"miRNA\", \"rRNA\", \"snRNA\", \"snoRNA\", \"Others\"\n",
        "]\n",
        "total = sum(counts)\n",
        "print(\"Total:\", total)\n"
      ],
      "metadata": {
        "colab": {
          "base_uri": "https://localhost:8080/"
        },
        "id": "wkXyuakaA4TL",
        "outputId": "3740d55e-6548-4cf9-9220-4c492b835a45"
      },
      "execution_count": 70,
      "outputs": [
        {
          "output_type": "stream",
          "name": "stdout",
          "text": [
            "Total: 16058\n"
          ]
        }
      ]
    },
    {
      "cell_type": "code",
      "source": [
        "percentages = [c / total * 100 for c in counts]\n",
        "for label, count, pct in zip(labels, counts, percentages):\n",
        "    print(f\"{label}: {count} ({pct:.2f}%)\")\n"
      ],
      "metadata": {
        "colab": {
          "base_uri": "https://localhost:8080/"
        },
        "id": "NPyxwGbzA9rr",
        "outputId": "191a9937-172e-4489-c2fa-d5d41bf167e1"
      },
      "execution_count": 71,
      "outputs": [
        {
          "output_type": "stream",
          "name": "stdout",
          "text": [
            "5' UTR: 2808 (17.49%)\n",
            "3' UTR: 2722 (16.95%)\n",
            "CDS: 3831 (23.86%)\n",
            "miRNA: 18 (0.11%)\n",
            "rRNA: 0 (0.00%)\n",
            "snRNA: 3 (0.02%)\n",
            "snoRNA: 0 (0.00%)\n",
            "Others: 6676 (41.57%)\n"
          ]
        }
      ]
    },
    {
      "cell_type": "code",
      "source": [],
      "metadata": {
        "id": "RDYQMVyhBGeZ"
      },
      "execution_count": null,
      "outputs": []
    },
    {
      "cell_type": "code",
      "source": [
        "import matplotlib.pyplot as plt\n",
        "\n",
        "# 데이터 예시 (카운트 비율)\n",
        "labels = [\n",
        "    \"CDS\", \"3' UTR\", \"5' UTR\", \"miRNA\", \"rRNA\", \"snRNA\", \"snoRNa\", \"Others\"\n",
        "]\n",
        "sizes = [\n",
        "    23.86, 16.95, 17.49, 0.11, 0, 0.02, 0, 41.57\n",
        "]\n",
        "\n",
        "# 원하시는 순서, 색상 직접 지정 가능!\n",
        "colors = [\n",
        "    '#4465A2',  # CDS (blue)\n",
        "    '#37B4AA',  # 3' UTR (teal)\n",
        "    '#90D2C7',  # 5' UTR (mint)\n",
        "    '#F7B500',  # Intron (orange)\n",
        "    '#C7B083',  # pre-rRNA (light brown)\n",
        "    '#7E7367',  # rRNA (gray)\n",
        "    '#545251',  # miRNA (dark gray)\n",
        "    '#BAB57C'   # Others (olive)\n",
        "]\n",
        "\n",
        "fig, ax = plt.subplots(figsize=(5, 5))\n",
        "\n",
        "wedges, texts, autotexts = ax.pie(\n",
        "    sizes, labels=labels, colors=colors,\n",
        "    autopct='%1.2f%%', startangle=90, pctdistance=0.85,\n",
        "    textprops={'fontsize': 12}\n",
        ")\n",
        "\n",
        "# A. 레이블 강조\n",
        "plt.setp(autotexts, size=11, weight=\"bold\", color='black')\n",
        "plt.setp(texts, size=12, weight=\"bold\")\n",
        "\n",
        "# 논문 스타일 제목/굵은 글씨\n",
        "ax.set_title(\"A  Composition of sequenced\\nLIN28A CLIP tags\", fontsize=15, fontweight='bold', loc='left')\n",
        "\n",
        "# 파이 차트 원이 완전히 원형이 되도록\n",
        "plt.axis('equal')\n",
        "plt.tight_layout()\n",
        "plt.show()\n"
      ],
      "metadata": {
        "colab": {
          "base_uri": "https://localhost:8080/",
          "height": 501
        },
        "id": "LsHvAb097pj2",
        "outputId": "878392ff-7dc8-4320-c3f5-8401cbe3d352"
      },
      "execution_count": 69,
      "outputs": [
        {
          "output_type": "display_data",
          "data": {
            "text/plain": [
              "<Figure size 500x500 with 1 Axes>"
            ],
            "image/png": "[encoded data removed]"
          },
          "metadata": {}
        }
      ]
    },
    {
      "cell_type": "code",
      "source": [
        "import matplotlib.pyplot as plt\n",
        "\n",
        "# 데이터 예시 (카운트 비율)\n",
        "labels = [\n",
        "    \"CDS\", \"3' UTR\", \"5' UTR\", \"miRNA\", \"snRNA\", \"Others\"\n",
        "]\n",
        "sizes = [\n",
        "    23.86, 16.95, 17.49, 0.11, 0.02, 41.57\n",
        "]\n",
        "\n",
        "# 원하시는 순서, 색상 직접 지정 가능!\n",
        "colors = [\n",
        "    '#4465A2',  # CDS (blue)\n",
        "    '#37B4AA',  # 3' UTR (teal)\n",
        "    '#90D2C7',  # 5' UTR (mint)\n",
        "    '#7E7367',  # miRNA (gray)\n",
        "    '#545251',  # snRNA (dark gray)\n",
        "    '#BAB57C'   # Others (olive)\n",
        "]\n",
        "\n",
        "fig, ax = plt.subplots(figsize=(5, 5))\n",
        "\n",
        "wedges, texts, autotexts = ax.pie(\n",
        "    sizes, labels=labels, colors=colors,\n",
        "    autopct='%1.2f%%', startangle=90, pctdistance=0.85,\n",
        "    textprops={'fontsize': 12}\n",
        ")\n",
        "\n",
        "# A. 레이블 강조\n",
        "plt.setp(autotexts, size=11, weight=\"bold\", color='black')\n",
        "plt.setp(texts, size=12, weight=\"bold\")\n",
        "\n",
        "# 논문 스타일 제목/굵은 글씨\n",
        "ax.set_title(\"A  Composition of sequenced\\nDDX3X CLIP tags\", fontsize=15, fontweight='bold', loc='left')\n",
        "\n",
        "# 파이 차트 원이 완전히 원형이 되도록\n",
        "plt.axis('equal')\n",
        "plt.tight_layout()\n",
        "plt.show()\n"
      ],
      "metadata": {
        "colab": {
          "base_uri": "https://localhost:8080/",
          "height": 496
        },
        "id": "zwVUc5v0AJB0",
        "outputId": "3c618957-b70c-42fd-ff13-7e70ddea29c6"
      },
      "execution_count": 77,
      "outputs": [
        {
          "output_type": "display_data",
          "data": {
            "text/plain": [
              "<Figure size 500x500 with 1 Axes>"
            ],
            "image/png": "[encoded data removed]"
          },
          "metadata": {}
        }
      ]
    },
    {
      "cell_type": "code",
      "source": [],
      "metadata": {
        "id": "SLbVh8gpBtNk"
      },
      "execution_count": null,
      "outputs": []
    }
  ]
}