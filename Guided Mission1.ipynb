{
 "cells": [
  {
   "cell_type": "code",
   "execution_count": 1,
   "id": "c2ab20f8-9acf-4e8b-9bf2-59e8573296e6",
   "metadata": {},
   "outputs": [
    {
     "name": "stdout",
     "output_type": "stream",
     "text": [
      "ls: /content/drive/MyDrive/binfo1-datapack1/: No such file or directory\n"
     ]
    }
   ],
   "source": [
    "!ls -al /content/drive/MyDrive/binfo1-datapack1/"
   ]
  },
  {
   "cell_type": "code",
   "execution_count": 2,
   "id": "a6f8383c-7fc4-403e-9dd8-7b5b514d4b6c",
   "metadata": {},
   "outputs": [],
   "source": [
    "#!wget -O - --no-check-certificate https://hyeshik.qbio.io/binfo/binfo1-datapack1.tar | tar -C /content/drive/MyDrive -xf -"
   ]
  },
  {
   "cell_type": "code",
   "execution_count": 3,
   "id": "72170465-3295-4ce9-bfa6-82242d6f7d5a",
   "metadata": {},
   "outputs": [
    {
     "name": "stdout",
     "output_type": "stream",
     "text": [
      "Project1.ipynb\n",
      "Untitled.ipynb\n",
      "\u001b[1m\u001b[36mbinfo1-datapack1\u001b[m\u001b[m/\n",
      "\u001b[1m\u001b[36mbinfo1-datapack1 2\u001b[m\u001b[m/\n",
      "\u001b[1m\u001b[36mbinfo1-datapack1 3\u001b[m\u001b[m/\n",
      "\u001b[1m\u001b[36mbinfo1-datapack1 4\u001b[m\u001b[m/\n",
      "binfo1-datapack1-20250507T213146Z-002.zip\n",
      "binfo1-datapack1-20250507T213146Z-003.zip\n",
      "binfo1-datapack1-20250507T213551Z-001.zip\n",
      "binfo1-datapack1-20250507T213551Z-004.zip\n",
      "\u001b[1m\u001b[36mbinfo1-work\u001b[m\u001b[m/\n",
      "\u001b[1m\u001b[36mcctest\u001b[m\u001b[m/\n",
      "\u001b[1m\u001b[36mcolab-biolab\u001b[m\u001b[m/\n",
      "gencode.vM27.annotation.gtf.gz\n"
     ]
    }
   ],
   "source": [
    "ls"
   ]
  },
  {
   "cell_type": "code",
   "execution_count": 4,
   "id": "cdc1bcbd-58aa-47b0-b502-aee9e9984f55",
   "metadata": {},
   "outputs": [
    {
     "name": "stdout",
     "output_type": "stream",
     "text": [
      "/Users/jang-yeonseo/Desktop\n"
     ]
    },
    {
     "name": "stderr",
     "output_type": "stream",
     "text": [
      "/Users/jang-yeonseo/miniforge3/envs/binfo1/lib/python3.9/site-packages/IPython/core/magics/osm.py:417: UserWarning: using dhist requires you to install the `pickleshare` library.\n",
      "  self.shell.db['dhist'] = compress_dhist(dhist)[-100:]\n"
     ]
    }
   ],
   "source": [
    "cd ../"
   ]
  },
  {
   "cell_type": "code",
   "execution_count": 5,
   "id": "a161f82f-73dd-4646-bb88-a153be83e2a0",
   "metadata": {},
   "outputs": [
    {
     "name": "stdout",
     "output_type": "stream",
     "text": [
      "AAI.docx\n",
      "\u001b[1m\u001b[36mBioinfo\u001b[m\u001b[m/\n",
      "\u001b[31mComparative Ct with Melt Fast_02.eds\u001b[m\u001b[m*\n",
      "\u001b[31mComparative Ct with Melt Fast_13.eds\u001b[m\u001b[m*\n",
      "Review_SARS-CoV-2 in bystander cells_YS.docx\n",
      "\u001b[1m\u001b[36mSNU\u001b[m\u001b[m/\n",
      "\u001b[1m\u001b[36mcroppic\u001b[m\u001b[m/\n",
      "gPCR19_5_Amplification Data_20250218_115540.xls\n",
      "gPCR19_5_Melt Curve Raw_20250218_115540.xls\n",
      "gPCR19_5_Melt Curve Result_20250218_115540.xls\n",
      "gPCR19_5_Multicomponent_20250218_115540.xls\n",
      "gPCR19_5_RQ Replicate Group Result_20250218_115540.xls\n",
      "gPCR19_5_Raw Data_20250218_115540.xls\n",
      "gPCR19_5_Replicate Group Result_20250218_115540.xls\n",
      "gPCR19_5_Results_20250218_115540.xls\n",
      "gPCR19_5_Sample Group Result_20250218_115540.xls\n",
      "schools.docx\n",
      "스티커 메모.txt\n",
      "\u001b[30m\u001b[43m장연서\u001b[m\u001b[m/\n",
      "스크린샷 2025-02-08 오후 1.28.46.png\n",
      "스크린샷 2025-03-07 오후 5.38.39.png\n",
      "스크린샷 2025-03-28 오전 9.52.18.png\n"
     ]
    }
   ],
   "source": [
    "ls"
   ]
  },
  {
   "cell_type": "code",
   "execution_count": 6,
   "id": "aa322e0b-6367-4c5f-b19d-287f1f73d0a1",
   "metadata": {},
   "outputs": [
    {
     "name": "stdout",
     "output_type": "stream",
     "text": [
      "/Users/jang-yeonseo/Desktop/Bioinfo\n"
     ]
    }
   ],
   "source": [
    "cd Bioinfo"
   ]
  },
  {
   "cell_type": "code",
   "execution_count": 7,
   "id": "4d5a3f61-1dcc-4350-a87e-991a37ab4917",
   "metadata": {},
   "outputs": [
    {
     "name": "stdout",
     "output_type": "stream",
     "text": [
      "zsh:1: command not found: wget\n",
      "tar: Must specify one of -c, -r, -t, -u, -x\n"
     ]
    }
   ],
   "source": [
    "!wget -O - --no-check-certificate https://hyeshik.qbio.io/binfo/binfo1-datapack1.tar | tar -C /desktop/Bioinfo-xf -"
   ]
  },
  {
   "cell_type": "code",
   "execution_count": 8,
   "id": "5590bd05-d478-4aee-a0ac-272a3ca0ae3f",
   "metadata": {},
   "outputs": [
    {
     "name": "stdout",
     "output_type": "stream",
     "text": [
      "MD5 (/Users/jang-yeonseo/Desktop/Bioinfo/binfo1-datapack1/CLIP-35L33G.bam) = 140aaf30bcb9276cc716f8699f04ddd6\n",
      "MD5 (/Users/jang-yeonseo/Desktop/Bioinfo/binfo1-datapack1/CLIP-let7g-gene.pileup) = 4ea14471c5d4bf9ab1fd91b9a5b2193c\n",
      "MD5 (/Users/jang-yeonseo/Desktop/Bioinfo/binfo1-datapack1/CLIP-let7g.bam) = 5d0265965487c33475f48869fc9df2d2\n",
      "MD5 (/Users/jang-yeonseo/Desktop/Bioinfo/binfo1-datapack1/CLIP-let7g.pileup) = a53f66a5575d4ac2d3b4c44af576d44d\n",
      "MD5 (/Users/jang-yeonseo/Desktop/Bioinfo/binfo1-datapack1/RNA-control.bam) = 328883a73d507eafbf5b60bd6b906201\n",
      "MD5 (/Users/jang-yeonseo/Desktop/Bioinfo/binfo1-datapack1/RNA-control.bam.bai) = 02073818e2f398a73c3b76e5169de1ca\n",
      "MD5 (/Users/jang-yeonseo/Desktop/Bioinfo/binfo1-datapack1/RNA-siLin28a.bam.bai) = fef112c727244060ea62d3f2564a07f6\n",
      "MD5 (/Users/jang-yeonseo/Desktop/Bioinfo/binfo1-datapack1/RNA-siLuc.bam.bai) = 43590fdc4d81905c0432e0d1cb8cfd5b\n",
      "MD5 (/Users/jang-yeonseo/Desktop/Bioinfo/binfo1-datapack1/RPF-siLin28a.bam) = 5c08a9297307bc83259e658c4474f0cc\n",
      "MD5 (/Users/jang-yeonseo/Desktop/Bioinfo/binfo1-datapack1/RPF-siLin28a.bam.bai) = a1bb3e29be412dfd7fd8d16b1b1acc4c\n",
      "MD5 (/Users/jang-yeonseo/Desktop/Bioinfo/binfo1-datapack1/RPF-siLuc.bam.bai) = dc24f69e8f571fc8be30f28ce5b84fcd\n",
      "MD5 (/Users/jang-yeonseo/Desktop/Bioinfo/binfo1-datapack1/gencode.gtf) = d54d428f5872030c4ffc43058709b896\n",
      "MD5 (/Users/jang-yeonseo/Desktop/Bioinfo/binfo1-datapack1/read-counts.txt) = 2698e6c8e30005ebc0593d3b9e9b5c58\n",
      "MD5 (/Users/jang-yeonseo/Desktop/Bioinfo/binfo1-datapack1/read-counts.txt.summary) = 7c9528c08ed2f1ae6e2de599db1aa8fb\n"
     ]
    }
   ],
   "source": [
    "!md5 ~/Desktop/Bioinfo/binfo1-datapack1/*"
   ]
  },
  {
   "cell_type": "code",
   "execution_count": 9,
   "id": "91c9ec17-dc13-454a-9fc1-58081af70275",
   "metadata": {},
   "outputs": [
    {
     "name": "stdout",
     "output_type": "stream",
     "text": [
      "zsh:1: no matches found: /Desktop/Bioinfo/binfo*\n"
     ]
    }
   ],
   "source": [
    "!ls -al /Desktop/Bioinfo/binfo*"
   ]
  },
  {
   "cell_type": "code",
   "execution_count": 10,
   "id": "c18ad13e-d512-444b-9ba3-a50147ef437b",
   "metadata": {},
   "outputs": [
    {
     "name": "stdout",
     "output_type": "stream",
     "text": [
      "zsh:1: no matches found: /content/drive/MyDrive/binfo*\n"
     ]
    }
   ],
   "source": [
    "!ls -al /content/drive/MyDrive/binfo*"
   ]
  },
  {
   "cell_type": "code",
   "execution_count": 11,
   "id": "7cafe2b8-05e8-4ef3-9514-98ba20219f88",
   "metadata": {},
   "outputs": [
    {
     "name": "stdout",
     "output_type": "stream",
     "text": [
      "mkdir: /Desktop: Read-only file system\n",
      "zsh:1: command not found: wget\n",
      "tar: could not chdir to '/Desktop/Bioinfo'\n",
      "\n",
      "bash: /Desktop/Bioinfo/initialize.sh: No such file or directory\n",
      "Done! 😀\n"
     ]
    }
   ],
   "source": [
    "!mkdir -p /Desktop/Bioinfo/what\n",
    "!wget -O - --no-check-certificate https://hyeshik.qbio.io/binfo/commandline-20210304.tar.gz | tar -C /Desktop/Bioinfo -xzf -\n",
    "!bash /Desktop/Bioinfo/initialize.sh\n",
    "print('Done! \\U0001f600')"
   ]
  },
  {
   "cell_type": "code",
   "execution_count": 12,
   "id": "8f863cb3-e290-4e63-876e-e6a1a93dccdd",
   "metadata": {},
   "outputs": [
    {
     "name": "stdout",
     "output_type": "stream",
     "text": [
      "zsh:1: no matches found: /Desktop/Bioinfo/binfo*\n"
     ]
    }
   ],
   "source": [
    "!ls -al /Desktop/Bioinfo/binfo*"
   ]
  },
  {
   "cell_type": "code",
   "execution_count": 13,
   "id": "cb607466-a679-4faf-b9f2-49729857e142",
   "metadata": {},
   "outputs": [
    {
     "name": "stdout",
     "output_type": "stream",
     "text": [
      "total 7878640\n",
      "drwxr-xr-x@ 16 jang-yeonseo  staff         512  5  8 06:50 \u001b[1m\u001b[36m.\u001b[m\u001b[m\n",
      "drwxr-xr-x  18 jang-yeonseo  staff         576  5  8 19:51 \u001b[1m\u001b[36m..\u001b[m\u001b[m\n",
      "-rw-rw-r--@  1 jang-yeonseo  staff  1370036258  4 27  2023 CLIP-35L33G.bam\n",
      "-rw-rw-r--@  1 jang-yeonseo  staff       14561  5 11  2023 CLIP-let7g-gene.pileup\n",
      "-rw-rw-r--@  1 jang-yeonseo  staff        7113  5 11  2023 CLIP-let7g.bam\n",
      "-rw-rw-r--@  1 jang-yeonseo  staff     2685065  5 11  2023 CLIP-let7g.pileup\n",
      "-rw-rw-r--@  1 jang-yeonseo  staff  1003658801  4 27  2023 RNA-control.bam\n",
      "-rw-rw-r--@  1 jang-yeonseo  staff     2276104  4 27  2023 RNA-control.bam.bai\n",
      "-rw-rw-r--@  1 jang-yeonseo  staff     2710744  4 27  2023 RNA-siLin28a.bam.bai\n",
      "-rw-rw-r--@  1 jang-yeonseo  staff     2606104  4 27  2023 RNA-siLuc.bam.bai\n",
      "-rw-rw-r--@  1 jang-yeonseo  staff   737352902  4 27  2023 RPF-siLin28a.bam\n",
      "-rw-rw-r--@  1 jang-yeonseo  staff     2482768  4 27  2023 RPF-siLin28a.bam.bai\n",
      "-rw-rw-r--@  1 jang-yeonseo  staff     2605912  4 27  2023 RPF-siLuc.bam.bai\n",
      "-rw-rw-r--@  1 jang-yeonseo  staff   883334756  4 27  2023 gencode.gtf\n",
      "-rw-rw-r--@  1 jang-yeonseo  staff    24065406  4 28  2023 read-counts.txt\n",
      "-rw-rw-r--@  1 jang-yeonseo  staff         751  4 28  2023 read-counts.txt.summary\n"
     ]
    }
   ],
   "source": [
    "!ls -al ~/Desktop/Bioinfo/binfo1-datapack1"
   ]
  },
  {
   "cell_type": "code",
   "execution_count": 14,
   "id": "46eda0c6-1d81-49f7-88d3-0db361e2b8b2",
   "metadata": {},
   "outputs": [
    {
     "name": "stdout",
     "output_type": "stream",
     "text": [
      "zsh:1: command not found: conda\n"
     ]
    }
   ],
   "source": [
    "!conda install -y subread"
   ]
  },
  {
   "cell_type": "code",
   "execution_count": 15,
   "id": "5b3258b4-113d-4f9f-8944-ae3b0b16f9fc",
   "metadata": {},
   "outputs": [
    {
     "name": "stdout",
     "output_type": "stream",
     "text": [
      "zsh:1: command not found: conda\n"
     ]
    }
   ],
   "source": [
    "!conda install -y subread"
   ]
  },
  {
   "cell_type": "code",
   "execution_count": 16,
   "id": "e6d9a011-a249-463e-931b-96429bb6dba1",
   "metadata": {},
   "outputs": [
    {
     "name": "stdout",
     "output_type": "stream",
     "text": [
      "zsh:1: command not found: conda\n"
     ]
    }
   ],
   "source": [
    "!conda install -y subread"
   ]
  },
  {
   "cell_type": "code",
   "execution_count": 17,
   "id": "452aba27-f0ac-46cd-9bf7-9de84b514216",
   "metadata": {},
   "outputs": [
    {
     "name": "stdout",
     "output_type": "stream",
     "text": [
      "zsh:cd:1: no such file or directory: /Desktop/Bioinfo\n",
      "mkdir: cctest: File exists\n",
      "total 0\n",
      "drwxr-xr-x   3 jang-yeonseo  staff   96  5  8 19:06 \u001b[1m\u001b[36m.\u001b[m\u001b[m\n",
      "drwxr-xr-x  18 jang-yeonseo  staff  576  5  8 19:51 \u001b[1m\u001b[36m..\u001b[m\u001b[m\n",
      "-rw-r--r--   1 jang-yeonseo  staff    0  5  8 19:52 .test\n"
     ]
    }
   ],
   "source": [
    "!cd /Desktop/Bioinfo; mkdir cctest; touch cctest/.test; ls -al cctest/"
   ]
  },
  {
   "cell_type": "code",
   "execution_count": 18,
   "id": "a4ba79b8-a4d4-4d0d-9ef2-a373d048062f",
   "metadata": {},
   "outputs": [
    {
     "name": "stdout",
     "output_type": "stream",
     "text": [
      "rsync  version 2.6.9  protocol version 29\n",
      "Copyright (C) 1996-2006 by Andrew Tridgell, Wayne Davison, and others.\n",
      "<http://rsync.samba.org/>\n",
      "Capabilities: 64-bit files, socketpairs, hard links, symlinks, batchfiles,\n",
      "              inplace, IPv6, 64-bit system inums, 64-bit internal inums\n",
      "\n",
      "rsync comes with ABSOLUTELY NO WARRANTY.  This is free software, and you\n",
      "are welcome to redistribute it under certain conditions.  See the GNU\n",
      "General Public Licence for details.\n",
      "\n",
      "rsync is a file transfer program capable of efficient remote update\n",
      "via a fast differencing algorithm.\n",
      "\n",
      "Usage: rsync [OPTION]... SRC [SRC]... DEST\n",
      "  or   rsync [OPTION]... SRC [SRC]... [USER@]HOST:DEST\n",
      "  or   rsync [OPTION]... SRC [SRC]... [USER@]HOST::DEST\n",
      "  or   rsync [OPTION]... SRC [SRC]... rsync://[USER@]HOST[:PORT]/DEST\n",
      "  or   rsync [OPTION]... [USER@]HOST:SRC [DEST]\n",
      "  or   rsync [OPTION]... [USER@]HOST::SRC [DEST]\n",
      "  or   rsync [OPTION]... rsync://[USER@]HOST[:PORT]/SRC [DEST]\n",
      "The ':' usages connect via remote shell, while '::' & 'rsync://' usages connect\n",
      "to an rsync daemon, and require SRC or DEST to start with a module name.\n",
      "\n",
      "Options\n",
      " -v, --verbose               increase verbosity\n",
      " -q, --quiet                 suppress non-error messages\n",
      "     --no-motd               suppress daemon-mode MOTD (see manpage caveat)\n",
      " -c, --checksum              skip based on checksum, not mod-time & size\n",
      " -a, --archive               archive mode; same as -rlptgoD (no -H)\n",
      "     --no-OPTION             turn off an implied OPTION (e.g. --no-D)\n",
      " -r, --recursive             recurse into directories\n",
      " -R, --relative              use relative path names\n",
      "     --no-implied-dirs       don't send implied dirs with --relative\n",
      " -b, --backup                make backups (see --suffix & --backup-dir)\n",
      "     --backup-dir=DIR        make backups into hierarchy based in DIR\n",
      "     --suffix=SUFFIX         set backup suffix (default ~ w/o --backup-dir)\n",
      " -u, --update                skip files that are newer on the receiver\n",
      "     --inplace               update destination files in-place (SEE MAN PAGE)\n",
      "     --append                append data onto shorter files\n",
      " -d, --dirs                  transfer directories without recursing\n",
      " -l, --links                 copy symlinks as symlinks\n",
      " -L, --copy-links            transform symlink into referent file/dir\n",
      "     --copy-unsafe-links     only \"unsafe\" symlinks are transformed\n",
      "     --safe-links            ignore symlinks that point outside the source tree\n",
      " -k, --copy-dirlinks         transform symlink to a dir into referent dir\n",
      " -K, --keep-dirlinks         treat symlinked dir on receiver as dir\n",
      " -H, --hard-links            preserve hard links\n",
      " -p, --perms                 preserve permissions\n",
      "     --executability         preserve the file's executability\n",
      "     --chmod=CHMOD           affect file and/or directory permissions\n",
      " -o, --owner                 preserve owner (super-user only)\n",
      " -g, --group                 preserve group\n",
      "     --devices               preserve device files (super-user only)\n",
      "     --specials              preserve special files\n",
      " -D                          same as --devices --specials\n",
      " -t, --times                 preserve times\n",
      " -O, --omit-dir-times        omit directories when preserving times\n",
      "     --super                 receiver attempts super-user activities\n",
      " -S, --sparse                handle sparse files efficiently\n",
      " -n, --dry-run               show what would have been transferred\n",
      " -W, --whole-file            copy files whole (without rsync algorithm)\n",
      " -x, --one-file-system       don't cross filesystem boundaries\n",
      " -B, --block-size=SIZE       force a fixed checksum block-size\n",
      " -e, --rsh=COMMAND           specify the remote shell to use\n",
      "     --rsync-path=PROGRAM    specify the rsync to run on the remote machine\n",
      "     --existing              skip creating new files on receiver\n",
      "     --ignore-existing       skip updating files that already exist on receiver\n",
      "     --remove-source-files   sender removes synchronized files (non-dirs)\n",
      "     --del                   an alias for --delete-during\n",
      "     --delete                delete extraneous files from destination dirs\n",
      "     --delete-before         receiver deletes before transfer (default)\n",
      "     --delete-during         receiver deletes during transfer, not before\n",
      "     --delete-after          receiver deletes after transfer, not before\n",
      "     --delete-excluded       also delete excluded files from destination dirs\n",
      "     --ignore-errors         delete even if there are I/O errors\n",
      "     --force                 force deletion of directories even if not empty\n",
      "     --max-delete=NUM        don't delete more than NUM files\n",
      "     --max-size=SIZE         don't transfer any file larger than SIZE\n",
      "     --min-size=SIZE         don't transfer any file smaller than SIZE\n",
      "     --partial               keep partially transferred files\n",
      "     --partial-dir=DIR       put a partially transferred file into DIR\n",
      "     --delay-updates         put all updated files into place at transfer's end\n",
      " -m, --prune-empty-dirs      prune empty directory chains from the file-list\n",
      "     --numeric-ids           don't map uid/gid values by user/group name\n",
      "     --timeout=TIME          set I/O timeout in seconds\n",
      " -I, --ignore-times          don't skip files that match in size and mod-time\n",
      "     --size-only             skip files that match in size\n",
      "     --modify-window=NUM     compare mod-times with reduced accuracy\n",
      " -T, --temp-dir=DIR          create temporary files in directory DIR\n",
      " -y, --fuzzy                 find similar file for basis if no dest file\n",
      "     --compare-dest=DIR      also compare destination files relative to DIR\n",
      "     --copy-dest=DIR         ... and include copies of unchanged files\n",
      "     --link-dest=DIR         hardlink to files in DIR when unchanged\n",
      " -z, --compress              compress file data during the transfer\n",
      "     --compress-level=NUM    explicitly set compression level\n",
      " -C, --cvs-exclude           auto-ignore files the same way CVS does\n",
      " -f, --filter=RULE           add a file-filtering RULE\n",
      " -F                          same as --filter='dir-merge /.rsync-filter'\n",
      "                             repeated: --filter='- .rsync-filter'\n",
      "     --exclude=PATTERN       exclude files matching PATTERN\n",
      "     --exclude-from=FILE     read exclude patterns from FILE\n",
      "     --include=PATTERN       don't exclude files matching PATTERN\n",
      "     --include-from=FILE     read include patterns from FILE\n",
      "     --files-from=FILE       read list of source-file names from FILE\n",
      " -0, --from0                 all *-from/filter files are delimited by 0s\n",
      "     --address=ADDRESS       bind address for outgoing socket to daemon\n",
      "     --port=PORT             specify double-colon alternate port number\n",
      "     --sockopts=OPTIONS      specify custom TCP options\n",
      "     --blocking-io           use blocking I/O for the remote shell\n",
      "     --stats                 give some file-transfer stats\n",
      " -8, --8-bit-output          leave high-bit chars unescaped in output\n",
      " -h, --human-readable        output numbers in a human-readable format\n",
      "     --progress              show progress during transfer\n",
      " -P                          same as --partial --progress\n",
      " -i, --itemize-changes       output a change-summary for all updates\n",
      "     --out-format=FORMAT     output updates using the specified FORMAT\n",
      "     --log-file=FILE         log what we're doing to the specified FILE\n",
      "     --log-file-format=FMT   log updates using the specified FMT\n",
      "     --password-file=FILE    read password from FILE\n",
      "     --list-only             list the files instead of copying them\n",
      "     --bwlimit=KBPS          limit I/O bandwidth; KBytes per second\n",
      "     --write-batch=FILE      write a batched update to FILE\n",
      "     --only-write-batch=FILE like --write-batch but w/o updating destination\n",
      "     --read-batch=FILE       read a batched update from FILE\n",
      "     --protocol=NUM          force an older protocol version to be used\n",
      " -E, --extended-attributes   copy extended attributes\n",
      "     --cache                 disable fcntl(F_NOCACHE)\n",
      " -4, --ipv4                  prefer IPv4\n",
      " -6, --ipv6                  prefer IPv6\n",
      "     --version               print version number\n",
      "(-h) --help                  show this help (-h works with no other options)\n",
      "\n",
      "Use \"rsync --daemon --help\" to see the daemon-mode command-line options.\n",
      "Please see the rsync(1) and rsyncd.conf(5) man pages for full documentation.\n",
      "See http://rsync.samba.org/ for updates, bug reports, and answers\n"
     ]
    }
   ],
   "source": [
    "! rsync -h"
   ]
  },
  {
   "cell_type": "code",
   "execution_count": 19,
   "id": "2227e3d3-4462-41c9-a69f-c64c92bae006",
   "metadata": {},
   "outputs": [
    {
     "name": "stdout",
     "output_type": "stream",
     "text": [
      "zsh:1: no matches found: *.bam\n"
     ]
    }
   ],
   "source": [
    "!featureCounts -a gencode.gtf -o read-counts.txt *.bam"
   ]
  },
  {
   "cell_type": "code",
   "execution_count": 20,
   "id": "11581bee-d12c-4fcb-98e8-db7c889fb385",
   "metadata": {},
   "outputs": [
    {
     "name": "stdout",
     "output_type": "stream",
     "text": [
      "mkdir: /Desktop: Read-only file system\n"
     ]
    }
   ],
   "source": [
    "!mkdir -p /Desktop/Bioinfo/binfo1-work"
   ]
  },
  {
   "cell_type": "code",
   "execution_count": 21,
   "id": "1fcb77e0-76d1-431c-a43f-2341928bdc45",
   "metadata": {},
   "outputs": [
    {
     "name": "stdout",
     "output_type": "stream",
     "text": [
      "building file list ... \n",
      "rsync: link_stat \"/Desktop/Bioinfo/binfo1-datapack1/.\" failed: No such file or directory (2)\n",
      "0 files to consider\n",
      "rsync: mkdir \"/Desktop/Bioinfo/binfo1-work\" failed: No such file or directory (2)\n",
      "rsync error: error in file IO (code 11) at /AppleInternal/Library/BuildRoots/c2cb9645-dafc-11ed-aa26-6ec1e3b3f7b3/Library/Caches/com.apple.xbs/Sources/rsync/rsync/main.c(545) [receiver=2.6.9]\n",
      "rsync: connection unexpectedly closed (8 bytes received so far) [sender]\n",
      "rsync error: error in rsync protocol data stream (code 12) at /AppleInternal/Library/BuildRoots/c2cb9645-dafc-11ed-aa26-6ec1e3b3f7b3/Library/Caches/com.apple.xbs/Sources/rsync/rsync/io.c(453) [sender=2.6.9]\n"
     ]
    }
   ],
   "source": [
    "!rsync -Pav /Desktop/Bioinfo/binfo1-datapack1/ /Desktop/Bioinfo/binfo1-work/"
   ]
  },
  {
   "cell_type": "code",
   "execution_count": 22,
   "id": "505649c8-0a69-453b-b1bb-f759f1c7ca86",
   "metadata": {},
   "outputs": [
    {
     "name": "stdout",
     "output_type": "stream",
     "text": [
      "building file list ... \n",
      "15 files to consider\n",
      "\n",
      "sent 425 bytes  received 20 bytes  890.00 bytes/sec\n",
      "total size is 4033837245  speedup is 9064802.80\n"
     ]
    }
   ],
   "source": [
    "!mkdir -p /Users/jang-yeonseo/Desktop/Bioinfo/binfo1-work\n",
    "!rsync -Pav /Users/jang-yeonseo/Desktop/Bioinfo/binfo1-datapack1/ /Users/jang-yeonseo/Desktop/Bioinfo/binfo1-work/\n"
   ]
  },
  {
   "cell_type": "code",
   "execution_count": 23,
   "id": "5f39add0-1582-417d-9887-46dd4e797a22",
   "metadata": {},
   "outputs": [
    {
     "name": "stdout",
     "output_type": "stream",
     "text": [
      "Project1.ipynb\n",
      "Untitled.ipynb\n",
      "\u001b[1m\u001b[36mbinfo1-datapack1\u001b[m\u001b[m/\n",
      "\u001b[1m\u001b[36mbinfo1-datapack1 2\u001b[m\u001b[m/\n",
      "\u001b[1m\u001b[36mbinfo1-datapack1 3\u001b[m\u001b[m/\n",
      "\u001b[1m\u001b[36mbinfo1-datapack1 4\u001b[m\u001b[m/\n",
      "binfo1-datapack1-20250507T213146Z-002.zip\n",
      "binfo1-datapack1-20250507T213146Z-003.zip\n",
      "binfo1-datapack1-20250507T213551Z-001.zip\n",
      "binfo1-datapack1-20250507T213551Z-004.zip\n",
      "\u001b[1m\u001b[36mbinfo1-work\u001b[m\u001b[m/\n",
      "\u001b[1m\u001b[36mcctest\u001b[m\u001b[m/\n",
      "\u001b[1m\u001b[36mcolab-biolab\u001b[m\u001b[m/\n",
      "gencode.vM27.annotation.gtf.gz\n"
     ]
    }
   ],
   "source": [
    "ls"
   ]
  },
  {
   "cell_type": "code",
   "execution_count": 24,
   "id": "376518c1-2447-4824-8b1f-1ebf71fb7096",
   "metadata": {},
   "outputs": [
    {
     "name": "stdout",
     "output_type": "stream",
     "text": [
      "/Users/jang-yeonseo/Desktop/Bioinfo/binfo1-work\n"
     ]
    }
   ],
   "source": [
    "%cd binfo1-work"
   ]
  },
  {
   "cell_type": "code",
   "execution_count": 4,
   "id": "33bfeb8d-39a5-471a-9ffc-a3881b1446f4",
   "metadata": {},
   "outputs": [
    {
     "name": "stdout",
     "output_type": "stream",
     "text": [
      "/Users/jang-yeonseo/Desktop/Bioinfo/binfo1-work\n"
     ]
    }
   ],
   "source": [
    "%cd /Users/jang-yeonseo/Desktop/Bioinfo/binfo1-work"
   ]
  },
  {
   "cell_type": "code",
   "execution_count": 5,
   "id": "b43f4cb4-0346-4b22-926e-2ac77bf662eb",
   "metadata": {},
   "outputs": [
    {
     "name": "stdout",
     "output_type": "stream",
     "text": [
      "CLIP-35L33G.bam          RNA-control.bam.bai      RPF-siLuc.bam.bai\n",
      "CLIP-let7g-gene.pileup   RNA-siLin28a.bam.bai     gencode.gtf\n",
      "CLIP-let7g.bam           RNA-siLuc.bam.bai        read-counts.txt\n",
      "CLIP-let7g.pileup        RPF-siLin28a.bam         read-counts.txt.summary\n",
      "RNA-control.bam          RPF-siLin28a.bam.bai\n"
     ]
    }
   ],
   "source": [
    "ls"
   ]
  },
  {
   "cell_type": "code",
   "execution_count": 6,
   "id": "a46a617a-f389-49b9-bbaf-58384830e94b",
   "metadata": {},
   "outputs": [
    {
     "name": "stdout",
     "output_type": "stream",
     "text": [
      "\n",
      "       \u001b[44;37m ========== \u001b[0m\u001b[36m    _____ _    _ ____  _____  ______          _____  \n",
      "       \u001b[44;37m =====      \u001b[0m\u001b[36m   / ____| |  | |  _ \\|  __ \\|  ____|   /\\   |  __ \\ \n",
      "       \u001b[44;37m   =====    \u001b[0m\u001b[36m  | (___ | |  | | |_) | |__) | |__     /  \\  | |  | |\n",
      "       \u001b[44;37m     ====   \u001b[0m\u001b[36m   \\___ \\| |  | |  _ <|  _  /|  __|   / /\\ \\ | |  | |\n",
      "       \u001b[44;37m       ==== \u001b[0m\u001b[36m   ____) | |__| | |_) | | \\ \\| |____ / ____ \\| |__| |\n",
      "       \u001b[44;37m ========== \u001b[0m\u001b[36m  |_____/ \\____/|____/|_|  \\_\\______/_/    \\_\\_____/\u001b[0m\n",
      "\t  v2.1.1\n",
      "\n",
      "//==========================\u001b[36m featureCounts setting \u001b[0m===========================\\\\\n",
      "||  \u001b[0m                                                                          ||\n",
      "||             Input files : \u001b[36m4 BAM files  \u001b[0m \u001b[0m                                   ||\n",
      "||  \u001b[0m                                                                          ||\n",
      "||                           \u001b[36mCLIP-35L33G.bam\u001b[0m \u001b[0m                                 ||\n",
      "||                           \u001b[36mCLIP-let7g.bam\u001b[0m \u001b[0m                                  ||\n",
      "||                           \u001b[36mRNA-control.bam\u001b[0m \u001b[0m                                 ||\n",
      "||                           \u001b[36mRPF-siLin28a.bam\u001b[0m \u001b[0m                                ||\n",
      "||  \u001b[0m                                                                          ||\n",
      "||             Output file : \u001b[36mread-counts.txt\u001b[0m \u001b[0m                                 ||\n",
      "||                 Summary : \u001b[36mread-counts.txt.summary\u001b[0m \u001b[0m                         ||\n",
      "||              Paired-end : \u001b[36mno\u001b[0m \u001b[0m                                              ||\n",
      "||        Count read pairs : \u001b[36mno\u001b[0m \u001b[0m                                              ||\n",
      "||              Annotation : \u001b[36mgencode.gtf (GTF)\u001b[0m \u001b[0m                               ||\n",
      "||      Dir for temp files : \u001b[36m./\u001b[0m \u001b[0m                                              ||\n",
      "||  \u001b[0m                                                                          ||\n",
      "||                 Threads : \u001b[36m1\u001b[0m \u001b[0m                                               ||\n",
      "||                   Level : \u001b[36mmeta-feature level\u001b[0m \u001b[0m                              ||\n",
      "||      Multimapping reads : \u001b[36mnot counted\u001b[0m \u001b[0m                                     ||\n",
      "|| Multi-overlapping reads : \u001b[36mnot counted\u001b[0m \u001b[0m                                     ||\n",
      "||   Min overlapping bases : \u001b[36m1\u001b[0m \u001b[0m                                               ||\n",
      "||  \u001b[0m                                                                          ||\n",
      "\\\\============================================================================//\n",
      "\n",
      "//=================================\u001b[36m Running \u001b[0m==================================\\\\\n",
      "||  \u001b[0m                                                                          ||\n",
      "|| Load annotation file gencode.gtf \u001b[0m... \u001b[0m                                      ||\n",
      "||    Features : \u001b[36m841952\u001b[0m \u001b[0m                                                      ||\n",
      "||    Meta-features : \u001b[36m55359\u001b[0m \u001b[0m                                                  ||\n",
      "||    Chromosomes/contigs : \u001b[36m22\u001b[0m \u001b[0m                                               ||\n",
      "||  \u001b[0m                                                                          ||\n",
      "|| Process BAM file CLIP-35L33G.bam... \u001b[0m                                       ||\n",
      "||    Single-end reads are included. \u001b[0m                                         ||\n",
      "||    Total alignments : \u001b[36m38880853\u001b[0m \u001b[0m                                            ||\n",
      "||    Successfully assigned alignments : \u001b[36m13630945 (35.1%)\u001b[0m \u001b[0m                    ||\n",
      "||    Running time : \u001b[36m0.54 minutes\u001b[0m \u001b[0m                                            ||\n",
      "||  \u001b[0m                                                                          ||\n",
      "|| Process BAM file CLIP-let7g.bam... \u001b[0m                                        ||\n",
      "||    Single-end reads are included. \u001b[0m                                         ||\n",
      "||    Total alignments : \u001b[36m163\u001b[0m \u001b[0m                                                 ||\n",
      "||    Successfully assigned alignments : \u001b[36m154 (94.5%)\u001b[0m \u001b[0m                         ||\n",
      "||    Running time : \u001b[36m0.00 minutes\u001b[0m \u001b[0m                                            ||\n",
      "||  \u001b[0m                                                                          ||\n",
      "|| Process BAM file RNA-control.bam... \u001b[0m                                       ||\n",
      "||    Single-end reads are included. \u001b[0m                                         ||\n",
      "||    Total alignments : \u001b[36m24971058\u001b[0m \u001b[0m                                            ||\n",
      "||    Successfully assigned alignments : \u001b[36m5200836 (20.8%)\u001b[0m \u001b[0m                     ||\n",
      "||    Running time : \u001b[36m0.35 minutes\u001b[0m \u001b[0m                                            ||\n",
      "||  \u001b[0m                                                                          ||\n",
      "|| Process BAM file RPF-siLin28a.bam... \u001b[0m                                      ||\n",
      "||    Single-end reads are included. \u001b[0m                                         ||\n",
      "||    Total alignments : \u001b[36m30095551\u001b[0m \u001b[0m                                            ||\n",
      "||    Successfully assigned alignments : \u001b[36m10694162 (35.5%)\u001b[0m \u001b[0m                    ||\n",
      "||    Running time : \u001b[36m0.35 minutes\u001b[0m \u001b[0m                                            ||\n",
      "||  \u001b[0m                                                                          ||\n",
      "|| Write the final count table. \u001b[0m                                              ||\n",
      "|| Write the read assignment summary. \u001b[0m                                        ||\n",
      "||  \u001b[0m                                                                          ||\n",
      "|| Summary of counting results can be found in file \"read-counts.txt.summary \u001b[0m ||\n",
      "|| \" \u001b[0m                                                                         ||\n",
      "||  \u001b[0m                                                                          ||\n",
      "\\\\============================================================================//\n",
      "\n"
     ]
    }
   ],
   "source": [
    "!featureCounts -a gencode.gtf -o read-counts.txt *.bam"
   ]
  },
  {
   "cell_type": "code",
   "execution_count": 9,
   "id": "8de8b6de-3dda-41b7-9d82-3d8aa552670c",
   "metadata": {},
   "outputs": [
    {
     "name": "stdout",
     "output_type": "stream",
     "text": [
      "Collecting pandas\n",
      "  Downloading pandas-2.2.3-cp39-cp39-macosx_11_0_arm64.whl.metadata (89 kB)\n",
      "Collecting numpy>=1.22.4 (from pandas)\n",
      "  Downloading numpy-2.0.2-cp39-cp39-macosx_11_0_arm64.whl.metadata (60 kB)\n",
      "Requirement already satisfied: python-dateutil>=2.8.2 in /Users/jang-yeonseo/miniforge3/envs/binfo1/lib/python3.9/site-packages (from pandas) (2.9.0.post0)\n",
      "Requirement already satisfied: pytz>=2020.1 in /Users/jang-yeonseo/miniforge3/envs/binfo1/lib/python3.9/site-packages (from pandas) (2025.2)\n",
      "Collecting tzdata>=2022.7 (from pandas)\n",
      "  Downloading tzdata-2025.2-py2.py3-none-any.whl.metadata (1.4 kB)\n",
      "Requirement already satisfied: six>=1.5 in /Users/jang-yeonseo/miniforge3/envs/binfo1/lib/python3.9/site-packages (from python-dateutil>=2.8.2->pandas) (1.17.0)\n",
      "Downloading pandas-2.2.3-cp39-cp39-macosx_11_0_arm64.whl (11.3 MB)\n",
      "\u001b[2K   \u001b[90m━━━━━━━━━━━━━━━━━━━━━━━━━━━━━━━━━━━━━━━━\u001b[0m \u001b[32m11.3/11.3 MB\u001b[0m \u001b[31m3.7 MB/s\u001b[0m eta \u001b[36m0:00:00\u001b[0ma \u001b[36m0:00:01\u001b[0m\n",
      "\u001b[?25hDownloading numpy-2.0.2-cp39-cp39-macosx_11_0_arm64.whl (13.7 MB)\n",
      "\u001b[2K   \u001b[90m━━━━━━━━━━━━━━━━━━━━━━━━━━━━━━━━━━━━━━━━\u001b[0m \u001b[32m13.7/13.7 MB\u001b[0m \u001b[31m5.9 MB/s\u001b[0m eta \u001b[36m0:00:00\u001b[0m00:01\u001b[0m00:01\u001b[0m\n",
      "\u001b[?25hDownloading tzdata-2025.2-py2.py3-none-any.whl (347 kB)\n",
      "Installing collected packages: tzdata, numpy, pandas\n",
      "\u001b[2K   \u001b[90m━━━━━━━━━━━━━━━━━━━━━━━━━━━━━━━━━━━━━━━━\u001b[0m \u001b[32m3/3\u001b[0m [pandas]2m2/3\u001b[0m [pandas]\n",
      "\u001b[1A\u001b[2KSuccessfully installed numpy-2.0.2 pandas-2.2.3 tzdata-2025.2\n"
     ]
    }
   ],
   "source": [
    "!pip install pandas"
   ]
  },
  {
   "cell_type": "code",
   "execution_count": 11,
   "id": "8c647e19-b00a-479e-afd4-1ea0e3677d4a",
   "metadata": {},
   "outputs": [
    {
     "name": "stdout",
     "output_type": "stream",
     "text": [
      "Channels:\n",
      " - conda-forge\n",
      "Platform: osx-arm64\n",
      "Collecting package metadata (repodata.json): done\n",
      "Solving environment: done\n",
      "\n",
      "\n",
      "==> WARNING: A newer version of conda exists. <==\n",
      "    current version: 25.3.0\n",
      "    latest version: 25.3.1\n",
      "\n",
      "Please update conda by running\n",
      "\n",
      "    $ conda update -n base -c conda-forge conda\n",
      "\n",
      "\n",
      "\n",
      "## Package Plan ##\n",
      "\n",
      "  environment location: /Users/jang-yeonseo/miniforge3/envs/binfo1\n",
      "\n",
      "  added / updated specs:\n",
      "    - pandas\n",
      "\n",
      "\n",
      "The following packages will be downloaded:\n",
      "\n",
      "    package                    |            build\n",
      "    ---------------------------|-----------------\n",
      "    libblas-3.9.0              |31_h10e41b3_openblas          17 KB  conda-forge\n",
      "    libcblas-3.9.0             |31_hb3479ef_openblas          17 KB  conda-forge\n",
      "    libgfortran-14.2.0         |     heb5dd2a_105         152 KB  conda-forge\n",
      "    libgfortran5-14.2.0        |     h2c44a93_105         787 KB  conda-forge\n",
      "    liblapack-3.9.0            |31_hc9a63f6_openblas          17 KB  conda-forge\n",
      "    libopenblas-0.3.29         |openmp_hf332438_0         4.0 MB  conda-forge\n",
      "    llvm-openmp-20.1.4         |       hdb05f8b_0         276 KB  conda-forge\n",
      "    numpy-2.0.2                |   py39h3ba1154_1         5.5 MB  conda-forge\n",
      "    pandas-2.2.3               |   py39hbc50386_3        11.5 MB  conda-forge\n",
      "    python-tzdata-2025.2       |     pyhd8ed1ab_0         141 KB  conda-forge\n",
      "    ------------------------------------------------------------\n",
      "                                           Total:        22.4 MB\n",
      "\n",
      "The following NEW packages will be INSTALLED:\n",
      "\n",
      "  libblas            conda-forge/osx-arm64::libblas-3.9.0-31_h10e41b3_openblas \n",
      "  libcblas           conda-forge/osx-arm64::libcblas-3.9.0-31_hb3479ef_openblas \n",
      "  libgfortran        conda-forge/osx-arm64::libgfortran-14.2.0-heb5dd2a_105 \n",
      "  libgfortran5       conda-forge/osx-arm64::libgfortran5-14.2.0-h2c44a93_105 \n",
      "  liblapack          conda-forge/osx-arm64::liblapack-3.9.0-31_hc9a63f6_openblas \n",
      "  libopenblas        conda-forge/osx-arm64::libopenblas-0.3.29-openmp_hf332438_0 \n",
      "  llvm-openmp        conda-forge/osx-arm64::llvm-openmp-20.1.4-hdb05f8b_0 \n",
      "  numpy              conda-forge/osx-arm64::numpy-2.0.2-py39h3ba1154_1 \n",
      "  pandas             conda-forge/osx-arm64::pandas-2.2.3-py39hbc50386_3 \n",
      "  python-tzdata      conda-forge/noarch::python-tzdata-2025.2-pyhd8ed1ab_0 \n",
      "\n",
      "\n",
      "\n",
      "Downloading and Extracting Packages:\n",
      "pandas-2.2.3         | 11.5 MB   |                                       |   0% \n",
      "numpy-2.0.2          | 5.5 MB    |                                       |   0% \u001b[A\n",
      "\n",
      "libopenblas-0.3.29   | 4.0 MB    |                                       |   0% \u001b[A\u001b[A\n",
      "\n",
      "\n",
      "libgfortran5-14.2.0  | 787 KB    |                                       |   0% \u001b[A\u001b[A\u001b[A\n",
      "\n",
      "\n",
      "\n",
      "llvm-openmp-20.1.4   | 276 KB    |                                       |   0% \u001b[A\u001b[A\u001b[A\u001b[A\n",
      "\n",
      "\n",
      "\n",
      "\n",
      "libgfortran-14.2.0   | 152 KB    |                                       |   0% \u001b[A\u001b[A\u001b[A\u001b[A\u001b[A\n",
      "\n",
      "\n",
      "\n",
      "\n",
      "\n",
      "python-tzdata-2025.2 | 141 KB    |                                       |   0% \u001b[A\u001b[A\u001b[A\u001b[A\u001b[A\u001b[A\n",
      "\n",
      "\n",
      "\n",
      "\n",
      "\n",
      "\n",
      "libblas-3.9.0        | 17 KB     |                                       |   0% \u001b[A\u001b[A\u001b[A\u001b[A\u001b[A\u001b[A\u001b[A\n",
      "\n",
      "\n",
      "\n",
      "\n",
      "\n",
      "\n",
      "\n",
      "liblapack-3.9.0      | 17 KB     |                                       |   0% \u001b[A\u001b[A\u001b[A\u001b[A\u001b[A\u001b[A\u001b[A\u001b[A\n",
      "\n",
      "\n",
      "\n",
      "\n",
      "\n",
      "\n",
      "\n",
      "\n",
      "pandas-2.2.3         | 11.5 MB   |                                       |   0% \u001b[A\u001b[A\u001b[A\u001b[A\u001b[A\u001b[A\u001b[A\u001b[A\u001b[A\n",
      "\n",
      "libopenblas-0.3.29   | 4.0 MB    | 1                                     |   0% \u001b[A\u001b[A\n",
      "\n",
      "\n",
      "libgfortran5-14.2.0  | 787 KB    | 7                                     |   2% \u001b[A\u001b[A\u001b[A\n",
      "numpy-2.0.2          | 5.5 MB    | 1                                     |   0% \u001b[A\n",
      "\n",
      "\n",
      "\n",
      "llvm-openmp-20.1.4   | 276 KB    | ##1                                   |   6% \u001b[A\u001b[A\u001b[A\u001b[A\n",
      "\n",
      "\n",
      "libgfortran5-14.2.0  | 787 KB    | ######                                |  16% \u001b[A\u001b[A\u001b[A\n",
      "\n",
      "libopenblas-0.3.29   | 4.0 MB    | #7                                    |   5% \u001b[A\u001b[A\n",
      "pandas-2.2.3         | 11.5 MB   | 7                                     |   2% \u001b[A\n",
      "\n",
      "\n",
      "\n",
      "llvm-openmp-20.1.4   | 276 KB    | #################1                    |  46% \u001b[A\u001b[A\u001b[A\u001b[A\n",
      "\n",
      "\n",
      "libgfortran5-14.2.0  | 787 KB    | ###########2                          |  30% \u001b[A\u001b[A\u001b[A\n",
      "\n",
      "pandas-2.2.3         | 11.5 MB   | #3                                    |   4% \u001b[A\u001b[A\n",
      "\n",
      "\n",
      "libgfortran5-14.2.0  | 787 KB    | #####################                 |  57% \u001b[A\u001b[A\u001b[A\n",
      "\n",
      "pandas-2.2.3         | 11.5 MB   | #8                                    |   5% \u001b[A\u001b[A\n",
      "\n",
      "\n",
      "\n",
      "llvm-openmp-20.1.4   | 276 KB    | ################################1     |  87% \u001b[A\u001b[A\u001b[A\u001b[A\n",
      "numpy-2.0.2          | 5.5 MB    | #5                                    |   4% \u001b[A\n",
      "\n",
      "\n",
      "\n",
      "llvm-openmp-20.1.4   | 276 KB    | ##################################### | 100% \u001b[A\u001b[A\u001b[A\u001b[A\n",
      "\n",
      "\n",
      "\n",
      "llvm-openmp-20.1.4   | 276 KB    | ##################################### | 100% \u001b[A\u001b[A\u001b[A\u001b[A\n",
      "\n",
      "\n",
      "pandas-2.2.3         | 11.5 MB   | ##2                                   |   6% \u001b[A\u001b[A\u001b[A\n",
      "\n",
      "libopenblas-0.3.29   | 4.0 MB    | #####9                                |  16% \u001b[A\u001b[A\n",
      "numpy-2.0.2          | 5.5 MB    | ##5                                   |   7% \u001b[A\n",
      "\n",
      "\n",
      "libgfortran5-14.2.0  | 787 KB    | ####################################  |  98% \u001b[A\u001b[A\u001b[A\n",
      "\n",
      "\n",
      "pandas-2.2.3         | 11.5 MB   | ##8                                   |   8% \u001b[A\u001b[A\u001b[A\n",
      "\n",
      "\n",
      "libgfortran5-14.2.0  | 787 KB    | ##################################### | 100% \u001b[A\u001b[A\u001b[A\n",
      "\n",
      "libopenblas-0.3.29   | 4.0 MB    | #######8                              |  21% \u001b[A\u001b[A\n",
      "pandas-2.2.3         | 11.5 MB   | ###2                                  |   9% \u001b[A\n",
      "numpy-2.0.2          | 5.5 MB    | ####6                                 |  12% \u001b[A\n",
      "\n",
      "pandas-2.2.3         | 11.5 MB   | ###7                                  |  10% \u001b[A\u001b[A\n",
      "\n",
      "\n",
      "\n",
      "\n",
      "libgfortran-14.2.0   | 152 KB    | ###8                                  |  11% \u001b[A\u001b[A\u001b[A\u001b[A\u001b[A\n",
      "\n",
      "\n",
      "\n",
      "\n",
      "libgfortran-14.2.0   | 152 KB    | ##################################### | 100% \u001b[A\u001b[A\u001b[A\u001b[A\u001b[A\n",
      "\n",
      "\n",
      "\n",
      "\n",
      "\n",
      "python-tzdata-2025.2 | 141 KB    | ####2                                 |  11% \u001b[A\u001b[A\u001b[A\u001b[A\u001b[A\u001b[A\n",
      "\n",
      "\n",
      "\n",
      "\n",
      "libgfortran-14.2.0   | 152 KB    | ##################################### | 100% \u001b[A\u001b[A\u001b[A\u001b[A\u001b[A\n",
      "\n",
      "\n",
      "\n",
      "\n",
      "\n",
      "python-tzdata-2025.2 | 141 KB    | ##################################### | 100% \u001b[A\u001b[A\u001b[A\u001b[A\u001b[A\u001b[A\n",
      "\n",
      "libopenblas-0.3.29   | 4.0 MB    | ##########9                           |  29% \u001b[A\u001b[A\n",
      "pandas-2.2.3         | 11.5 MB   | ####1                                 |  11% \u001b[A\n",
      "\n",
      "libopenblas-0.3.29   | 4.0 MB    | ############                          |  33% \u001b[A\u001b[A\n",
      "\n",
      "\n",
      "\n",
      "\n",
      "\n",
      "\n",
      "\n",
      "liblapack-3.9.0      | 17 KB     | ###################################5  |  96% \u001b[A\u001b[A\u001b[A\u001b[A\u001b[A\u001b[A\u001b[A\u001b[A\n",
      "\n",
      "\n",
      "\n",
      "\n",
      "\n",
      "\n",
      "\n",
      "liblapack-3.9.0      | 17 KB     | ##################################### | 100% \u001b[A\u001b[A\u001b[A\u001b[A\u001b[A\u001b[A\u001b[A\u001b[A\n",
      "\n",
      "\n",
      "\n",
      "\n",
      "\n",
      "\n",
      "libblas-3.9.0        | 17 KB     | ###################################4  |  96% \u001b[A\u001b[A\u001b[A\u001b[A\u001b[A\u001b[A\u001b[A\n",
      "\n",
      "\n",
      "\n",
      "\n",
      "\n",
      "\n",
      "libblas-3.9.0        | 17 KB     | ##################################### | 100% \u001b[A\u001b[A\u001b[A\u001b[A\u001b[A\u001b[A\u001b[A\n",
      "\n",
      "\n",
      "\n",
      "\n",
      "\n",
      "\n",
      "\n",
      "liblapack-3.9.0      | 17 KB     | ##################################### | 100% \u001b[A\u001b[A\u001b[A\u001b[A\u001b[A\u001b[A\u001b[A\u001b[A\n",
      "\n",
      "\n",
      "\n",
      "\n",
      "\n",
      "\n",
      "pandas-2.2.3         | 11.5 MB   | ####7                                 |  13% \u001b[A\u001b[A\u001b[A\u001b[A\u001b[A\u001b[A\u001b[A\n",
      "\n",
      "\n",
      "\n",
      "\n",
      "\n",
      "python-tzdata-2025.2 | 141 KB    | ##################################### | 100% \u001b[A\u001b[A\u001b[A\u001b[A\u001b[A\u001b[A\n",
      "\n",
      "\n",
      "\n",
      "\n",
      "\n",
      "python-tzdata-2025.2 | 141 KB    | ##################################### | 100% \u001b[A\u001b[A\u001b[A\u001b[A\u001b[A\u001b[A\n",
      "\n",
      "libopenblas-0.3.29   | 4.0 MB    | ##############2                       |  39% \u001b[A\u001b[A\n",
      "pandas-2.2.3         | 11.5 MB   | #####2                                |  14% \u001b[A\n",
      "\n",
      "\n",
      "\n",
      "\n",
      "\n",
      "\n",
      "\n",
      "\n",
      "libcblas-3.9.0       | 17 KB     | ###################################5  |  96% \u001b[A\u001b[A\u001b[A\u001b[A\u001b[A\u001b[A\u001b[A\u001b[A\u001b[A\n",
      "\n",
      "\n",
      "\n",
      "\n",
      "\n",
      "\n",
      "\n",
      "\n",
      "libcblas-3.9.0       | 17 KB     | ##################################### | 100% \u001b[A\u001b[A\u001b[A\u001b[A\u001b[A\u001b[A\u001b[A\u001b[A\u001b[A\n",
      "\n",
      "\n",
      "\n",
      "\n",
      "\n",
      "\n",
      "\n",
      "\n",
      "libcblas-3.9.0       | 17 KB     | ##################################### | 100% \u001b[A\u001b[A\u001b[A\u001b[A\u001b[A\u001b[A\u001b[A\u001b[A\u001b[A\n",
      "numpy-2.0.2          | 5.5 MB    | ##############9                       |  40% \u001b[A\n",
      "\n",
      "pandas-2.2.3         | 11.5 MB   | #####7                                |  15% \u001b[A\u001b[A\n",
      "\n",
      "pandas-2.2.3         | 11.5 MB   | ######2                               |  17% \u001b[A\u001b[A\n",
      "\n",
      "libopenblas-0.3.29   | 4.0 MB    | ###################1                  |  52% \u001b[A\u001b[A\n",
      "pandas-2.2.3         | 11.5 MB   | ######7                               |  18% \u001b[A\n",
      "\n",
      "libopenblas-0.3.29   | 4.0 MB    | ####################9                 |  57% \u001b[A\u001b[A\n",
      "pandas-2.2.3         | 11.5 MB   | #######3                              |  20% \u001b[A\n",
      "\n",
      "libopenblas-0.3.29   | 4.0 MB    | ######################6               |  61% \u001b[A\u001b[A\n",
      "pandas-2.2.3         | 11.5 MB   | #######8                              |  21% \u001b[A\n",
      "\n",
      "libopenblas-0.3.29   | 4.0 MB    | ########################5             |  66% \u001b[A\u001b[A\n",
      "pandas-2.2.3         | 11.5 MB   | ########4                             |  23% \u001b[A\n",
      "\n",
      "libopenblas-0.3.29   | 4.0 MB    | ##########################1           |  71% \u001b[A\u001b[A\n",
      "pandas-2.2.3         | 11.5 MB   | #########1                            |  25% \u001b[A\n",
      "\n",
      "libopenblas-0.3.29   | 4.0 MB    | ###########################9          |  75% \u001b[A\u001b[A\n",
      "pandas-2.2.3         | 11.5 MB   | #########8                            |  26% \u001b[A\n",
      "\n",
      "libopenblas-0.3.29   | 4.0 MB    | ##############################2       |  82% \u001b[A\u001b[A\n",
      "pandas-2.2.3         | 11.5 MB   | ##########5                           |  28% \u001b[A\n",
      "\n",
      "libopenblas-0.3.29   | 4.0 MB    | ################################5     |  88% \u001b[A\u001b[A\n",
      "pandas-2.2.3         | 11.5 MB   | ###########2                          |  30% \u001b[A\n",
      "\n",
      "libopenblas-0.3.29   | 4.0 MB    | ##################################6   |  94% \u001b[A\u001b[A\n",
      "pandas-2.2.3         | 11.5 MB   | ###########9                          |  32% \u001b[A\n",
      "numpy-2.0.2          | 5.5 MB    | ##################################### | 100% \u001b[A\n",
      "\n",
      "libopenblas-0.3.29   | 4.0 MB    | ##################################### | 100% \u001b[A\u001b[A\n",
      "\n",
      "libopenblas-0.3.29   | 4.0 MB    | ##################################### | 100% \u001b[A\u001b[A\n",
      "\n",
      "pandas-2.2.3         | 11.5 MB   | ###############7                      |  43% \u001b[A\u001b[A\n",
      "                                                                                \u001b[A\n",
      "                                                                                \u001b[A\n",
      "\n",
      "                                                                                \u001b[A\u001b[A\n",
      "\n",
      "\n",
      "                                                                                \u001b[A\u001b[A\u001b[A\n",
      "\n",
      "\n",
      "\n",
      "                                                                                \u001b[A\u001b[A\u001b[A\u001b[A\n",
      "\n",
      "\n",
      "\n",
      "\n",
      "                                                                                \u001b[A\u001b[A\u001b[A\u001b[A\u001b[A\n",
      "\n",
      "\n",
      "\n",
      "\n",
      "\n",
      "                                                                                \u001b[A\u001b[A\u001b[A\u001b[A\u001b[A\u001b[A\n",
      "\n",
      "\n",
      "\n",
      "\n",
      "\n",
      "\n",
      "                                                                                \u001b[A\u001b[A\u001b[A\u001b[A\u001b[A\u001b[A\u001b[A\n",
      "\n",
      "\n",
      "\n",
      "\n",
      "\n",
      "\n",
      "\n",
      "                                                                                \u001b[A\u001b[A\u001b[A\u001b[A\u001b[A\u001b[A\u001b[A\u001b[A\n",
      "\n",
      "\n",
      "\n",
      "\n",
      "\n",
      "\n",
      "\n",
      "\n",
      "                                                                                \u001b[A\u001b[A\u001b[A\u001b[A\u001b[A\u001b[A\u001b[A\u001b[A\u001b[A\n",
      "Preparing transaction: done\n",
      "Verifying transaction: done\n",
      "Executing transaction: done\n"
     ]
    }
   ],
   "source": [
    "!conda install -y pandas\n"
   ]
  },
  {
   "cell_type": "code",
   "execution_count": 12,
   "id": "0d7baf65-313c-4af4-a12e-dbf52ee3aef2",
   "metadata": {},
   "outputs": [
    {
     "name": "stdout",
     "output_type": "stream",
     "text": [
      "/Users/jang-yeonseo/miniforge3/envs/binfo1/bin/python\n"
     ]
    }
   ],
   "source": [
    "!which python"
   ]
  },
  {
   "cell_type": "code",
   "execution_count": 14,
   "id": "a6544a30-1cb1-41fa-9609-29da8e65343e",
   "metadata": {},
   "outputs": [
    {
     "name": "stdout",
     "output_type": "stream",
     "text": [
      "Requirement already satisfied: pandas in /Users/jang-yeonseo/miniforge3/envs/binfo1/lib/python3.9/site-packages (2.2.3)\n",
      "Requirement already satisfied: numpy>=1.22.4 in /Users/jang-yeonseo/miniforge3/envs/binfo1/lib/python3.9/site-packages (from pandas) (2.0.2)\n",
      "Requirement already satisfied: python-dateutil>=2.8.2 in /Users/jang-yeonseo/miniforge3/envs/binfo1/lib/python3.9/site-packages (from pandas) (2.9.0.post0)\n",
      "Requirement already satisfied: pytz>=2020.1 in /Users/jang-yeonseo/miniforge3/envs/binfo1/lib/python3.9/site-packages (from pandas) (2025.2)\n",
      "Requirement already satisfied: tzdata>=2022.7 in /Users/jang-yeonseo/miniforge3/envs/binfo1/lib/python3.9/site-packages (from pandas) (2025.2)\n",
      "Requirement already satisfied: six>=1.5 in /Users/jang-yeonseo/miniforge3/envs/binfo1/lib/python3.9/site-packages (from python-dateutil>=2.8.2->pandas) (1.17.0)\n"
     ]
    }
   ],
   "source": [
    "!pip install pandas\n"
   ]
  },
  {
   "cell_type": "code",
   "execution_count": 18,
   "id": "fd588d20-ed7f-4ff6-8913-d07c8c30a53b",
   "metadata": {},
   "outputs": [],
   "source": [
    "import pandas as pd"
   ]
  },
  {
   "cell_type": "code",
   "execution_count": 19,
   "id": "4b3ea6a3-57ef-4720-9571-7d6df534fbc7",
   "metadata": {},
   "outputs": [
    {
     "data": {
      "text/html": [
       "<div>\n",
       "<style scoped>\n",
       "    .dataframe tbody tr th:only-of-type {\n",
       "        vertical-align: middle;\n",
       "    }\n",
       "\n",
       "    .dataframe tbody tr th {\n",
       "        vertical-align: top;\n",
       "    }\n",
       "\n",
       "    .dataframe thead th {\n",
       "        text-align: right;\n",
       "    }\n",
       "</style>\n",
       "<table border=\"1\" class=\"dataframe\">\n",
       "  <thead>\n",
       "    <tr style=\"text-align: right;\">\n",
       "      <th></th>\n",
       "      <th>Chr</th>\n",
       "      <th>Start</th>\n",
       "      <th>End</th>\n",
       "      <th>Strand</th>\n",
       "      <th>Length</th>\n",
       "      <th>CLIP-35L33G.bam</th>\n",
       "      <th>CLIP-let7g.bam</th>\n",
       "      <th>RNA-control.bam</th>\n",
       "      <th>RPF-siLin28a.bam</th>\n",
       "    </tr>\n",
       "    <tr>\n",
       "      <th>Geneid</th>\n",
       "      <th></th>\n",
       "      <th></th>\n",
       "      <th></th>\n",
       "      <th></th>\n",
       "      <th></th>\n",
       "      <th></th>\n",
       "      <th></th>\n",
       "      <th></th>\n",
       "      <th></th>\n",
       "    </tr>\n",
       "  </thead>\n",
       "  <tbody>\n",
       "    <tr>\n",
       "      <th>ENSMUSG00000102693.2</th>\n",
       "      <td>chr1</td>\n",
       "      <td>3143476</td>\n",
       "      <td>3144545</td>\n",
       "      <td>+</td>\n",
       "      <td>1070</td>\n",
       "      <td>0</td>\n",
       "      <td>0</td>\n",
       "      <td>0</td>\n",
       "      <td>0</td>\n",
       "    </tr>\n",
       "    <tr>\n",
       "      <th>ENSMUSG00000064842.3</th>\n",
       "      <td>chr1</td>\n",
       "      <td>3172239</td>\n",
       "      <td>3172348</td>\n",
       "      <td>+</td>\n",
       "      <td>110</td>\n",
       "      <td>0</td>\n",
       "      <td>0</td>\n",
       "      <td>0</td>\n",
       "      <td>0</td>\n",
       "    </tr>\n",
       "    <tr>\n",
       "      <th>ENSMUSG00000051951.6</th>\n",
       "      <td>chr1;chr1;chr1;chr1;chr1;chr1;chr1</td>\n",
       "      <td>3276124;3276746;3283662;3283832;3284705;349192...</td>\n",
       "      <td>3277540;3277540;3285855;3286567;3287191;349212...</td>\n",
       "      <td>-;-;-;-;-;-;-</td>\n",
       "      <td>6094</td>\n",
       "      <td>4</td>\n",
       "      <td>0</td>\n",
       "      <td>1</td>\n",
       "      <td>0</td>\n",
       "    </tr>\n",
       "    <tr>\n",
       "      <th>ENSMUSG00000102851.2</th>\n",
       "      <td>chr1</td>\n",
       "      <td>3322980</td>\n",
       "      <td>3323459</td>\n",
       "      <td>+</td>\n",
       "      <td>480</td>\n",
       "      <td>3</td>\n",
       "      <td>0</td>\n",
       "      <td>0</td>\n",
       "      <td>0</td>\n",
       "    </tr>\n",
       "    <tr>\n",
       "      <th>ENSMUSG00000103377.2</th>\n",
       "      <td>chr1</td>\n",
       "      <td>3435954</td>\n",
       "      <td>3438772</td>\n",
       "      <td>-</td>\n",
       "      <td>2819</td>\n",
       "      <td>0</td>\n",
       "      <td>0</td>\n",
       "      <td>0</td>\n",
       "      <td>0</td>\n",
       "    </tr>\n",
       "  </tbody>\n",
       "</table>\n",
       "</div>"
      ],
      "text/plain": [
       "                                                     Chr  \\\n",
       "Geneid                                                     \n",
       "ENSMUSG00000102693.2                                chr1   \n",
       "ENSMUSG00000064842.3                                chr1   \n",
       "ENSMUSG00000051951.6  chr1;chr1;chr1;chr1;chr1;chr1;chr1   \n",
       "ENSMUSG00000102851.2                                chr1   \n",
       "ENSMUSG00000103377.2                                chr1   \n",
       "\n",
       "                                                                  Start  \\\n",
       "Geneid                                                                    \n",
       "ENSMUSG00000102693.2                                            3143476   \n",
       "ENSMUSG00000064842.3                                            3172239   \n",
       "ENSMUSG00000051951.6  3276124;3276746;3283662;3283832;3284705;349192...   \n",
       "ENSMUSG00000102851.2                                            3322980   \n",
       "ENSMUSG00000103377.2                                            3435954   \n",
       "\n",
       "                                                                    End  \\\n",
       "Geneid                                                                    \n",
       "ENSMUSG00000102693.2                                            3144545   \n",
       "ENSMUSG00000064842.3                                            3172348   \n",
       "ENSMUSG00000051951.6  3277540;3277540;3285855;3286567;3287191;349212...   \n",
       "ENSMUSG00000102851.2                                            3323459   \n",
       "ENSMUSG00000103377.2                                            3438772   \n",
       "\n",
       "                             Strand  Length  CLIP-35L33G.bam  CLIP-let7g.bam  \\\n",
       "Geneid                                                                         \n",
       "ENSMUSG00000102693.2              +    1070                0               0   \n",
       "ENSMUSG00000064842.3              +     110                0               0   \n",
       "ENSMUSG00000051951.6  -;-;-;-;-;-;-    6094                4               0   \n",
       "ENSMUSG00000102851.2              +     480                3               0   \n",
       "ENSMUSG00000103377.2              -    2819                0               0   \n",
       "\n",
       "                      RNA-control.bam  RPF-siLin28a.bam  \n",
       "Geneid                                                   \n",
       "ENSMUSG00000102693.2                0                 0  \n",
       "ENSMUSG00000064842.3                0                 0  \n",
       "ENSMUSG00000051951.6                1                 0  \n",
       "ENSMUSG00000102851.2                0                 0  \n",
       "ENSMUSG00000103377.2                0                 0  "
      ]
     },
     "execution_count": 19,
     "metadata": {},
     "output_type": "execute_result"
    }
   ],
   "source": [
    "cnts = pd.read_csv('read-counts.txt', sep='\\t', comment='#', index_col=0)\n",
    "cnts.head()"
   ]
  },
  {
   "cell_type": "code",
   "execution_count": 20,
   "id": "8653bf6b-74c6-4264-a341-49479d78b251",
   "metadata": {},
   "outputs": [
    {
     "ename": "KeyError",
     "evalue": "'RNA-siLin28a.bam'",
     "output_type": "error",
     "traceback": [
      "\u001b[31m---------------------------------------------------------------------------\u001b[39m",
      "\u001b[31mKeyError\u001b[39m                                  Traceback (most recent call last)",
      "\u001b[36mFile \u001b[39m\u001b[32m~/miniforge3/lib/python3.12/site-packages/pandas/core/indexes/base.py:3805\u001b[39m, in \u001b[36mIndex.get_loc\u001b[39m\u001b[34m(self, key)\u001b[39m\n\u001b[32m   3804\u001b[39m \u001b[38;5;28;01mtry\u001b[39;00m:\n\u001b[32m-> \u001b[39m\u001b[32m3805\u001b[39m     \u001b[38;5;28;01mreturn\u001b[39;00m \u001b[38;5;28;43mself\u001b[39;49m\u001b[43m.\u001b[49m\u001b[43m_engine\u001b[49m\u001b[43m.\u001b[49m\u001b[43mget_loc\u001b[49m\u001b[43m(\u001b[49m\u001b[43mcasted_key\u001b[49m\u001b[43m)\u001b[49m\n\u001b[32m   3806\u001b[39m \u001b[38;5;28;01mexcept\u001b[39;00m \u001b[38;5;167;01mKeyError\u001b[39;00m \u001b[38;5;28;01mas\u001b[39;00m err:\n",
      "\u001b[36mFile \u001b[39m\u001b[32mindex.pyx:167\u001b[39m, in \u001b[36mpandas._libs.index.IndexEngine.get_loc\u001b[39m\u001b[34m()\u001b[39m\n",
      "\u001b[36mFile \u001b[39m\u001b[32mindex.pyx:196\u001b[39m, in \u001b[36mpandas._libs.index.IndexEngine.get_loc\u001b[39m\u001b[34m()\u001b[39m\n",
      "\u001b[36mFile \u001b[39m\u001b[32mpandas/_libs/hashtable_class_helper.pxi:7081\u001b[39m, in \u001b[36mpandas._libs.hashtable.PyObjectHashTable.get_item\u001b[39m\u001b[34m()\u001b[39m\n",
      "\u001b[36mFile \u001b[39m\u001b[32mpandas/_libs/hashtable_class_helper.pxi:7089\u001b[39m, in \u001b[36mpandas._libs.hashtable.PyObjectHashTable.get_item\u001b[39m\u001b[34m()\u001b[39m\n",
      "\u001b[31mKeyError\u001b[39m: 'RNA-siLin28a.bam'",
      "\nThe above exception was the direct cause of the following exception:\n",
      "\u001b[31mKeyError\u001b[39m                                  Traceback (most recent call last)",
      "\u001b[36mCell\u001b[39m\u001b[36m \u001b[39m\u001b[32mIn[20]\u001b[39m\u001b[32m, line 2\u001b[39m\n\u001b[32m      1\u001b[39m cnts[\u001b[33m'\u001b[39m\u001b[33mclip_enrichment\u001b[39m\u001b[33m'\u001b[39m] = cnts[\u001b[33m'\u001b[39m\u001b[33mCLIP-35L33G.bam\u001b[39m\u001b[33m'\u001b[39m] / cnts[\u001b[33m'\u001b[39m\u001b[33mRNA-control.bam\u001b[39m\u001b[33m'\u001b[39m]\n\u001b[32m----> \u001b[39m\u001b[32m2\u001b[39m cnts[\u001b[33m'\u001b[39m\u001b[33mrden_change\u001b[39m\u001b[33m'\u001b[39m] = (cnts[\u001b[33m'\u001b[39m\u001b[33mRPF-siLin28a.bam\u001b[39m\u001b[33m'\u001b[39m] / \u001b[43mcnts\u001b[49m\u001b[43m[\u001b[49m\u001b[33;43m'\u001b[39;49m\u001b[33;43mRNA-siLin28a.bam\u001b[39;49m\u001b[33;43m'\u001b[39;49m\u001b[43m]\u001b[49m) / (cnts[\u001b[33m'\u001b[39m\u001b[33mRPF-siLuc.bam\u001b[39m\u001b[33m'\u001b[39m] / cnts[\u001b[33m'\u001b[39m\u001b[33mRNA-siLuc.bam\u001b[39m\u001b[33m'\u001b[39m])\n\u001b[32m      3\u001b[39m cnts.head()\n",
      "\u001b[36mFile \u001b[39m\u001b[32m~/miniforge3/lib/python3.12/site-packages/pandas/core/frame.py:4102\u001b[39m, in \u001b[36mDataFrame.__getitem__\u001b[39m\u001b[34m(self, key)\u001b[39m\n\u001b[32m   4100\u001b[39m \u001b[38;5;28;01mif\u001b[39;00m \u001b[38;5;28mself\u001b[39m.columns.nlevels > \u001b[32m1\u001b[39m:\n\u001b[32m   4101\u001b[39m     \u001b[38;5;28;01mreturn\u001b[39;00m \u001b[38;5;28mself\u001b[39m._getitem_multilevel(key)\n\u001b[32m-> \u001b[39m\u001b[32m4102\u001b[39m indexer = \u001b[38;5;28;43mself\u001b[39;49m\u001b[43m.\u001b[49m\u001b[43mcolumns\u001b[49m\u001b[43m.\u001b[49m\u001b[43mget_loc\u001b[49m\u001b[43m(\u001b[49m\u001b[43mkey\u001b[49m\u001b[43m)\u001b[49m\n\u001b[32m   4103\u001b[39m \u001b[38;5;28;01mif\u001b[39;00m is_integer(indexer):\n\u001b[32m   4104\u001b[39m     indexer = [indexer]\n",
      "\u001b[36mFile \u001b[39m\u001b[32m~/miniforge3/lib/python3.12/site-packages/pandas/core/indexes/base.py:3812\u001b[39m, in \u001b[36mIndex.get_loc\u001b[39m\u001b[34m(self, key)\u001b[39m\n\u001b[32m   3807\u001b[39m     \u001b[38;5;28;01mif\u001b[39;00m \u001b[38;5;28misinstance\u001b[39m(casted_key, \u001b[38;5;28mslice\u001b[39m) \u001b[38;5;129;01mor\u001b[39;00m (\n\u001b[32m   3808\u001b[39m         \u001b[38;5;28misinstance\u001b[39m(casted_key, abc.Iterable)\n\u001b[32m   3809\u001b[39m         \u001b[38;5;129;01mand\u001b[39;00m \u001b[38;5;28many\u001b[39m(\u001b[38;5;28misinstance\u001b[39m(x, \u001b[38;5;28mslice\u001b[39m) \u001b[38;5;28;01mfor\u001b[39;00m x \u001b[38;5;129;01min\u001b[39;00m casted_key)\n\u001b[32m   3810\u001b[39m     ):\n\u001b[32m   3811\u001b[39m         \u001b[38;5;28;01mraise\u001b[39;00m InvalidIndexError(key)\n\u001b[32m-> \u001b[39m\u001b[32m3812\u001b[39m     \u001b[38;5;28;01mraise\u001b[39;00m \u001b[38;5;167;01mKeyError\u001b[39;00m(key) \u001b[38;5;28;01mfrom\u001b[39;00m\u001b[38;5;250m \u001b[39m\u001b[34;01merr\u001b[39;00m\n\u001b[32m   3813\u001b[39m \u001b[38;5;28;01mexcept\u001b[39;00m \u001b[38;5;167;01mTypeError\u001b[39;00m:\n\u001b[32m   3814\u001b[39m     \u001b[38;5;66;03m# If we have a listlike key, _check_indexing_error will raise\u001b[39;00m\n\u001b[32m   3815\u001b[39m     \u001b[38;5;66;03m#  InvalidIndexError. Otherwise we fall through and re-raise\u001b[39;00m\n\u001b[32m   3816\u001b[39m     \u001b[38;5;66;03m#  the TypeError.\u001b[39;00m\n\u001b[32m   3817\u001b[39m     \u001b[38;5;28mself\u001b[39m._check_indexing_error(key)\n",
      "\u001b[31mKeyError\u001b[39m: 'RNA-siLin28a.bam'"
     ]
    }
   ],
   "source": [
    "cnts['clip_enrichment'] = cnts['CLIP-35L33G.bam'] / cnts['RNA-control.bam']\n",
    "cnts['rden_change'] = (cnts['RPF-siLin28a.bam'] / cnts['RNA-siLin28a.bam']) / (cnts['RPF-siLuc.bam'] / cnts['RNA-siLuc.bam'])\n",
    "cnts.head()"
   ]
  },
  {
   "cell_type": "code",
   "execution_count": 21,
   "id": "b600c9f6-ab37-40f4-a97a-63335ad5d544",
   "metadata": {},
   "outputs": [
    {
     "name": "stdout",
     "output_type": "stream",
     "text": [
      "['Chr', 'Start', 'End', 'Strand', 'Length', 'CLIP-35L33G.bam', 'CLIP-let7g.bam', 'RNA-control.bam', 'RPF-siLin28a.bam', 'clip_enrichment']\n"
     ]
    }
   ],
   "source": [
    "print(cnts.columns.tolist())\n"
   ]
  },
  {
   "cell_type": "code",
   "execution_count": null,
   "id": "e3ba34f6-f2fd-4dee-9883-ad55698ddcdb",
   "metadata": {},
   "outputs": [],
   "source": []
  }
 ],
 "metadata": {
  "kernelspec": {
   "display_name": "Python (binfo1)",
   "language": "python",
   "name": "binfo1"
  },
  "language_info": {
   "codemirror_mode": {
    "name": "ipython",
    "version": 3
   },
   "file_extension": ".py",
   "mimetype": "text/x-python",
   "name": "python",
   "nbconvert_exporter": "python",
   "pygments_lexer": "ipython3",
   "version": "3.12.9"
  }
 },
 "nbformat": 4,
 "nbformat_minor": 5
}
